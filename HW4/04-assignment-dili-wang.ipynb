{
 "cells": [
  {
   "cell_type": "code",
   "execution_count": 1,
   "metadata": {},
   "outputs": [],
   "source": [
    "import pandas as pd\n",
    "import numpy as np\n",
    "from matplotlib import pyplot\n",
    "%matplotlib inline"
   ]
  },
  {
   "cell_type": "markdown",
   "metadata": {},
   "source": [
    "## Introduction"
   ]
  },
  {
   "cell_type": "markdown",
   "metadata": {},
   "source": [
    "### Problem Statement \n",
    "\n",
    "- You're a data scientist at Ford GoBike (https://www.fordgobike.com/), the company running Bay Area Bikeshare. You are trying to increase ridership, and you want to offer deals through the mobile app to do so. What deals do you offer though? Currently, your company has three options: a flat price for a single one-way trip, a day pass that allows unlimited 30-minute rides for 24 hours and an annual membership.\n",
    "\n",
    "- Through this project, you will answer these questions:\n",
    "    - What are the 5 most popular trips that you would call \"commuter trips\"?\n",
    "    - What are your recommendations for offers (justify based on your findings)?"
   ]
  },
  {
   "cell_type": "markdown",
   "metadata": {},
   "source": [
    "## Question 1 - What are the 5 most popular trips that you would call \"commuter\" trips?"
   ]
  },
  {
   "cell_type": "markdown",
   "metadata": {},
   "source": [
    "To answer this questions, I will define a few different criteria:\n",
    "1. Which types of customers are considered commuters and how long is a typical commuter trip?\n",
    "2. What times of the day are commuting times?\n",
    "3. What popular routes during commuting times have trip lengths that are considered commuter trips?\n"
   ]
  },
  {
   "cell_type": "markdown",
   "metadata": {},
   "source": [
    "### 1.1  Which types of customers are considered commuters and how long is a typical commuter trip?"
   ]
  },
  {
   "cell_type": "markdown",
   "metadata": {},
   "source": [
    "From the bikeshare_trips schema description, we know that the subscriber_type field has 2 distinct values - Customer and Subscriber.  \n",
    "- Subscribers either have Annual or 30 day memberships \n",
    "- Customers have 3-day or 24 hour memberships\n",
    "\n",
    "Also noting here, a visit to the site https://www.fordgobike.com/ reveals that there is also the option to take a single ride, for $2 a trip.  It is unclear here if these single trips are included in the bikeshare_trips data, but I will be grouping single ride bike users into the Customer category for the remainder of this report.  "
   ]
  },
  {
   "cell_type": "markdown",
   "metadata": {},
   "source": [
    "- First a query of the number of trips by Subscriber Type and their average duration reveals some important numbers:"
   ]
  },
  {
   "cell_type": "code",
   "execution_count": 35,
   "metadata": {},
   "outputs": [
    {
     "name": "stdout",
     "output_type": "stream",
     "text": [
      "Waiting on bqjob_r6a5891ec9c4f00f5_000001663cd21af5_1 ... (0s) Current status: DONE   \n",
      "+-----------------+------------------+--------+\n",
      "| subscriber_type | avg_duration_min | trips  |\n",
      "+-----------------+------------------+--------+\n",
      "| Customer        |            61.98 | 136809 |\n",
      "| Subscriber      |             9.71 | 846839 |\n",
      "+-----------------+------------------+--------+\n"
     ]
    }
   ],
   "source": [
    "! bq query --use_legacy_sql=false 'SELECT \\\n",
    "  subscriber_type, \\\n",
    "  round(avg(duration_sec/60), 2) as avg_duration_min, \\\n",
    "  count(*) as trips \\\n",
    "FROM `bigquery-public-data.san_francisco.bikeshare_trips` \\\n",
    "GROUP BY subscriber_type'"
   ]
  },
  {
   "cell_type": "code",
   "execution_count": 37,
   "metadata": {},
   "outputs": [
    {
     "name": "stdout",
     "output_type": "stream",
     "text": [
      "Average Trip Duration Ration, Customer:Subscriber 6.38\n",
      "Total Trips in Data 983648.00\n",
      "Percentage of Total Trips taken by Customers 13.91\n",
      "Percentage of Total Trips taken by Subscribers 86.09\n"
     ]
    }
   ],
   "source": [
    "avg_duration_ratio = 61.98/9.71\n",
    "total_trips = 136809+846839\n",
    "perc_subscriber_trips = 846839/total_trips*100\n",
    "perc_customer_trips = 136809/total_trips*100\n",
    "\n",
    "print(\"Average Trip Duration Ration, Customer:Subscriber\", \"{:.2f}\".format(avg_duration_ratio))\n",
    "print(\"Total Trips in Data\", \"{:.2f}\".format(total_trips))\n",
    "print(\"Percentage of Total Trips taken by Customers\", \"{:.2f}\".format(perc_customer_trips))\n",
    "print(\"Percentage of Total Trips taken by Subscribers\", \"{:.2f}\".format(perc_subscriber_trips))"
   ]
  },
  {
   "cell_type": "markdown",
   "metadata": {},
   "source": [
    "From some simple math performed on the query results, we see that 86.09% of the bikeshare_trips data consists of trips taken by subscribers - people with annual or monthly memberships.  The average trip duration of a subscriber is 9.71 minutes which is a little less than 1/6 the average trip duration of a customer.  "
   ]
  },
  {
   "cell_type": "markdown",
   "metadata": {},
   "source": [
    "- to further examine the spread of durations for subscribers vs customers, I will create data frames from the following query results"
   ]
  },
  {
   "cell_type": "code",
   "execution_count": 30,
   "metadata": {
    "scrolled": true
   },
   "outputs": [
    {
     "name": "stdout",
     "output_type": "stream",
     "text": [
      "Waiting on bqjob_r49516ceb9cd3bcf8_000001663ca5d220_1 ... (1s) Current status: DONE   "
     ]
    }
   ],
   "source": [
    "! bq query --use_legacy_sql=FALSE --max_rows=846839 --format=csv '\\\n",
    "SELECT \\\n",
    "    subscriber_type, \\\n",
    "    round(duration_sec/60, 2) as duration_min \\\n",
    "FROM `bigquery-public-data.san_francisco.bikeshare_trips` \\\n",
    "WHERE subscriber_type = \"Subscriber\"\\\n",
    "ORDER BY duration_min' > subscriber_durations.csv\n",
    "\n",
    "! bq query --use_legacy_sql=FALSE --max_rows=136809 --format=csv '\\\n",
    "SELECT \\\n",
    "    subscriber_type, \\\n",
    "    round(duration_sec/60, 2) as duration_min \\\n",
    "FROM `bigquery-public-data.san_francisco.bikeshare_trips` \\\n",
    "WHERE subscriber_type = \"Customer\"\\\n",
    "ORDER BY duration_min'> customer_durations.csv"
   ]
  },
  {
   "cell_type": "code",
   "execution_count": 27,
   "metadata": {},
   "outputs": [
    {
     "data": {
      "text/plain": [
       "count    846839.000000\n",
       "mean          9.712740\n",
       "std          48.242655\n",
       "min           1.000000\n",
       "25%           5.470000\n",
       "50%           8.020000\n",
       "75%          11.170000\n",
       "max       30876.500000\n",
       "Name: duration_min, dtype: float64"
      ]
     },
     "execution_count": 27,
     "metadata": {},
     "output_type": "execute_result"
    }
   ],
   "source": [
    "subscriber_durations = pd.read_csv('subscriber_durations.csv')\n",
    "customer_durations = pd.read_csv('customer_durations.csv')\n",
    "\n",
    "subscriber_durations.duration_min.describe()"
   ]
  },
  {
   "cell_type": "code",
   "execution_count": 28,
   "metadata": {},
   "outputs": [
    {
     "data": {
      "text/plain": [
       "count    136809.000000\n",
       "mean         61.979755\n",
       "std         812.808536\n",
       "min           1.000000\n",
       "25%          11.030000\n",
       "50%          18.830000\n",
       "75%          39.330000\n",
       "max      287840.000000\n",
       "Name: duration_min, dtype: float64"
      ]
     },
     "execution_count": 28,
     "metadata": {},
     "output_type": "execute_result"
    }
   ],
   "source": [
    "customer_durations.duration_min.describe()"
   ]
  },
  {
   "cell_type": "markdown",
   "metadata": {},
   "source": [
    "From the summary statistics displayed above, we can see additional interesting results:\n",
    "1. The median of the Subscribers trip duration is 8.02 minutes, which is very close to the mean of 9.71 minutes, with an interquartile range of 5.47 minutes to 11.17 minutes.  However, there is clear positive skew causes by trips as long as the max duration of 30876 minutes or (21.44 days)\n",
    "2. The median of the Customers trip duration is 18.80 minutes, which is less than 1/3 the mean of 61.98 minutes.  The interquarrtile range is from 11.03 minutes to 39.33 minutes.  The clear positive skew for customer trips is caused by trips as long as the max duration of 287840 minutes, which is almost 200 days. I have to point out that this data is really rather alarming, as a customer can only rent a bike for as long as 3 days.  This leads me to suspect that some extremely long duration values may be due to:\n",
    "    1. Some type of technical error, perhaps returned bike was never registered as returned\n",
    "    2. Data includes customers who do not return their bikes for a prolonged period of time\n",
    "3. It is important to note that the median for customers trip duration is still more than 2 times the median of subscribers trip durations.  \n",
    "4. The 75th percentile of subscriber trips is close to the 25th percentile of customer trips.  "
   ]
  },
  {
   "cell_type": "markdown",
   "metadata": {},
   "source": [
    "For visualization, I will plot part of the subscriber and customer data.  Plots of the raw data will be difficult to read given extreme outliers that are far form the IQR.  Following the standard statistics practice, where boxplot whiskers are 1.5 times of the IQR, I will be removing all outlier durations that are greater than 75th percentile + 1.5XIQR for both dataframes prior to ploting.  "
   ]
  },
  {
   "cell_type": "code",
   "execution_count": 29,
   "metadata": {},
   "outputs": [
    {
     "name": "stdout",
     "output_type": "stream",
     "text": [
      "Percentage of Subscriber Data captured in outlier removal: 0.9737695122685658\n",
      "Percentage of Customer Data captured in outlier removal: 0.8480947890855134\n"
     ]
    }
   ],
   "source": [
    "#since the minimum values of 1 minute are all within 25th percentile - 1.5xIQR, \n",
    "##I will only be removing outliers greater than 75th percentile + 1.5xIQR prior to plotting.  \n",
    "\n",
    "#set maximum value for data cutoff\n",
    "subscriber_duration_max = 11.170000+(11.170000-5.470000)*1.5\n",
    "customer_duration_max = 39.330000+(39.330000-11.030000)*1.5\n",
    "\n",
    "#create new data frames without outliers:\n",
    "subscriber_durations_mod = subscriber_durations[subscriber_durations.duration_min <= subscriber_duration_max]\n",
    "customer_durations_mod = customer_durations[customer_durations.duration_min <= customer_duration_max]\n",
    "\n",
    "#percentage of rows included:\n",
    "print(\"Percentage of Subscriber Data captured in outlier removal:\", subscriber_durations_mod.duration_min.count()/subscriber_durations.duration_min.count())\n",
    "print(\"Percentage of Customer Data captured in outlier removal:\", customer_durations_mod.duration_min.count()/customer_durations.duration_min.count())"
   ]
  },
  {
   "cell_type": "code",
   "execution_count": 42,
   "metadata": {},
   "outputs": [
    {
     "data": {
      "text/plain": [
       "<matplotlib.legend.Legend at 0x7f516183fda0>"
      ]
     },
     "execution_count": 42,
     "metadata": {},
     "output_type": "execute_result"
    },
    {
     "data": {
      "image/png": "[encoded data removed]",
      "text/plain": [
       "<Figure size 1080x576 with 1 Axes>"
      ]
     },
     "metadata": {},
     "output_type": "display_data"
    }
   ],
   "source": [
    "bins = np.linspace(0, 85, 40)\n",
    "pyplot.rc('xtick', labelsize=15) \n",
    "pyplot.rc('ytick', labelsize=15) \n",
    "\n",
    "durations_hist = pyplot.figure(figsize = (15, 8))\n",
    "pyplot.hist(subscriber_durations_mod.duration_min, bins, alpha=0.5, label='Subscribers')\n",
    "pyplot.hist(customer_durations_mod.duration_min, bins, alpha=0.5, label='Customers')\n",
    "durations_hist.suptitle('Trips Count by Duration', size = 25)\n",
    "pyplot.xlabel('Duration in Minutes', size = 20)\n",
    "pyplot.ylabel('Trips Count', size =  20)\n",
    "pyplot.legend(loc='upper right')\n"
   ]
  },
  {
   "cell_type": "code",
   "execution_count": 8,
   "metadata": {},
   "outputs": [
    {
     "data": {
      "text/plain": [
       "0.5214423027724784"
      ]
     },
     "execution_count": 8,
     "metadata": {},
     "output_type": "execute_result"
    }
   ],
   "source": [
    "#Calculate the percentage of Customer data that overlaps with Subscriber data in the durations plot above:\n",
    "customer_durations_mod[customer_durations_mod.duration_min <= subscriber_duration_max].duration_min.count()/customer_durations.duration_min.count()"
   ]
  },
  {
   "cell_type": "markdown",
   "metadata": {},
   "source": [
    "From the outliers removal and additional calculations, we have the following results:\n",
    "1. 93.37% of Subscribers trips have a duration of between 1 and 19.72 minutes. \n",
    "2. 52.14% of Customers trips have a duration of between 1 and 19.72 minutes.  \n",
    "3. In the duration range of 1 to 19.72 minutes, the number of subscriber trips is significantly greater than that of customer trips.  \n",
    "\n",
    "From this initial analysis, we see that ~86% of all trips are subscriber trips and most subscriber trips(93%+) have a duration of 1-20 minutes.  Customer trips, which comprise of ~14% of all trips, have a median duration of 18.83 minutes which is more than twice the subscriber trips duration of 8.02 minutes.  Only ~52% of customer trips have durations between 1-20 minutes, which means that as much as 48% of customer trips have durations that are greater than 93% of subscriber trips. \n",
    "\n",
    "Because we do not have subscriber and customer IDs in any of the tables, we can only speculate the definition of a commuter from this analysis.  The current pricing of https://www.fordgobike.com/ bike rentals is as follows:\n",
    "\n",
    "- \\$2 for a one way trip\n",
    "- \\$9.95 for a 1 day pass (for unlimited \\$30 rides and \\$3 per each additional 15 min)\n",
    "- \\$19.95 for a 3 day pass (for unlimited \\$30 rides and \\$3 per each additional 15 min)\n",
    "- \\$15 for a one month membership (for unlimited 45-minute rides and \\$3 per each additional 15 min)\n",
    "\n",
    "Therefore, given the higher bike ride frequency needs of a commuter, it is reasonable to assume that a commuter is much more likely to be a monthly or annual subscriber who pays one monthly price of \\$15 for unlimited 45 minute rides, resulting in the lowest cost per day than any other option that is currently offered. In addition, given that only 52% of customer trips are between 1-20 min, while 93 percent of subscriber trips are between 1-20 minutes, it is highly improbable that a commuter who may be riding to work 4-5 days per week will remain a customer.  It is important to note that Customers may also be taking bike rides between the 1-20 min duration range, because they are a) considering becoming subscribers as commuters or b) do not wish to incur additional fees of durations greater than 30 min.\n",
    "\n",
    "**Based on the analysis here, I will define the 1st criteria of a commuter trip as one that is taken by mostly subscribers, a small percentage of customers, and should have a duration of no more than 20 minutes.**"
   ]
  },
  {
   "cell_type": "markdown",
   "metadata": {},
   "source": [
    "### 1.2 What times of the day are commuting times?"
   ]
  },
  {
   "cell_type": "markdown",
   "metadata": {},
   "source": [
    "To determine commuting times, let's first take a look at which hours are the most rides starting.  To check that my query results are logical, I will group the entire data set by all 24 hours using the following query:"
   ]
  },
  {
   "cell_type": "code",
   "execution_count": 14,
   "metadata": {},
   "outputs": [
    {
     "name": "stdout",
     "output_type": "stream",
     "text": [
      "Waiting on bqjob_r463dbe703ac4d982_000001663d6a84d7_1 ... (1s) Current status: DONE   \n",
      "+------------+--------+\n",
      "| start_hour | trips  |\n",
      "+------------+--------+\n",
      "|          8 | 132464 |\n",
      "|         17 | 126302 |\n",
      "|          9 |  96118 |\n",
      "|         16 |  88755 |\n",
      "|         18 |  84569 |\n",
      "|          7 |  67531 |\n",
      "|         15 |  47626 |\n",
      "|         12 |  46950 |\n",
      "|         13 |  43714 |\n",
      "|         10 |  42782 |\n",
      "|         19 |  41071 |\n",
      "|         11 |  40407 |\n",
      "|         14 |  37852 |\n",
      "|         20 |  22747 |\n",
      "|          6 |  20519 |\n",
      "|         21 |  15258 |\n",
      "|         22 |  10270 |\n",
      "|         23 |   6195 |\n",
      "|          5 |   5098 |\n",
      "|          0 |   2929 |\n",
      "|          1 |   1611 |\n",
      "|          4 |   1398 |\n",
      "|          2 |    877 |\n",
      "|          3 |    605 |\n",
      "+------------+--------+\n"
     ]
    }
   ],
   "source": [
    "! bq query --use_legacy_sql=false ' \\\n",
    "SELECT \\\n",
    "  EXTRACT(HOUR FROM start_date) as start_hour, \\\n",
    "  count(*) as trips \\\n",
    "FROM `bigquery-public-data.san_francisco.bikeshare_trips` \\\n",
    "GROUP BY start_hour \\\n",
    "ORDER BY trips DESC'"
   ]
  },
  {
   "cell_type": "markdown",
   "metadata": {},
   "source": [
    "Based on this query result, we see the following:\n",
    "1. The 6 most popular start times are during the following hours - 8am, 5pm, 9am, 4pm, 6pm, 7am. The popular morning start hours reasonably align with commuting to the office before work, and the afternoon popular start times reasonably align with commuting to home from office after work.  \n",
    "2. We can see that the start times are indeed in the correct PST time zone.  As expected, the hours 12am to 5am are the least popular start times as that is during the hours when most people sleep.  \n",
    "\n",
    "As the majority of trips are taken by subscribers, we will investigate in the next section the percentage of subscribers that take popular routes during popular times.  From these start time hour summary results, it is reasonable to speculate that commuters are most likely to start their morning commutes going to work during the most popular morning hours and to start their evening commutes leaving work during the most popular afternoon hours.  \n",
    "\n",
    "**Using the top 5 popular start time hours, I will define the 2nd criteria for a commuter trip as one with a morning start time between 7am and 10am or a evening start time of between 4pm and 7pm.**\n",
    "\n",
    "The morning time period of 7am to 10am will be referred to as the morning rush hours while the afternoon time period of 4pm to 7pm will be referred to as the afternoon rush hours.  I decided to limit morning rush hours to 3 and afternoon rush hours to 3 for symmetry.  "
   ]
  },
  {
   "cell_type": "markdown",
   "metadata": {},
   "source": [
    "### 1.3 What popular routes during commuting times have trip lengths that are considered commuter trips?"
   ]
  },
  {
   "cell_type": "markdown",
   "metadata": {},
   "source": [
    "To narrow down the top commuter routes, lets first take a look at the top 5 most popular routes during the morning rush hours and the top 5 most popular routes during the afternoon rush hours.  The popularity will be determined by the number of trips per route during these times, and for each set of 5 queried we will also examine the number of customers versus subscribers. "
   ]
  },
  {
   "cell_type": "markdown",
   "metadata": {},
   "source": [
    "- first a query of the top 5 routes with the most trips count and their average trip durations during the morning rush:"
   ]
  },
  {
   "cell_type": "code",
   "execution_count": 26,
   "metadata": {},
   "outputs": [
    {
     "name": "stdout",
     "output_type": "stream",
     "text": [
      "Waiting on bqjob_r577d17491c2ae680_000001663dc56158_1 ... (1s) Current status: DONE   "
     ]
    }
   ],
   "source": [
    "! bq query --use_legacy_sql=false --format=csv '\\\n",
    "SELECT \\\n",
    "  start_station_id, start_station_name, end_station_id, end_station_name, \\\n",
    "  count(*) as trips, \\\n",
    "  round(avg(duration_sec/60),2) as avg_duration_min \\\n",
    "FROM `bigquery-public-data.san_francisco.bikeshare_trips` \\\n",
    "WHERE TIME(start_date) >= \"07:00:00\" AND TIME(start_date) <= \"10:00:00\" \\\n",
    "GROUP BY start_station_id, start_station_name, end_station_id, end_station_name \\\n",
    "ORDER BY trips DESC \\\n",
    "LIMIT 5' > top5morning.csv"
   ]
  },
  {
   "cell_type": "code",
   "execution_count": 9,
   "metadata": {},
   "outputs": [],
   "source": [
    "top_5_am = pd.read_csv('top5morning.csv')\n",
    "#merging the start_station_id and end_station_id into one column called route_id\n",
    "top_5_am['route_id'] = top_5_am.start_station_id.astype(str)+'-'+top_5_am.end_station_id.astype(str)\n",
    "top_5_am.drop(['start_station_id', 'end_station_id'], axis = 1, inplace = True)"
   ]
  },
  {
   "cell_type": "markdown",
   "metadata": {},
   "source": [
    "- next, a query of the top 5 routes by most trips count plus columns for number of subscriber trips and customer trips, during the morning rush:"
   ]
  },
  {
   "cell_type": "code",
   "execution_count": 28,
   "metadata": {},
   "outputs": [
    {
     "name": "stdout",
     "output_type": "stream",
     "text": [
      "Waiting on bqjob_r393ee91dca19e188_000001663dc5bb29_1 ... (2s) Current status: DONE   "
     ]
    }
   ],
   "source": [
    "! bq query --use_legacy_sql=false --format=csv '\\\n",
    "SELECT start_station_id, end_station_id, \\\n",
    "  sum(trips) as total_trips, \\\n",
    "  sum(case when subscriber_type = \"Subscriber\" then trips else 0 end) as subscriber_trips, \\\n",
    "  sum(case when subscriber_type = \"Customer\" then trips else 0 end) as customer_trips \\\n",
    "FROM ( \\\n",
    "SELECT \\\n",
    "  start_station_id, end_station_id, subscriber_type, \\\n",
    "  count(*) as trips \\\n",
    "FROM `bigquery-public-data.san_francisco.bikeshare_trips` \\\n",
    "WHERE TIME(start_date) >= \"07:00:00\" AND TIME(start_date) <= \"10:00:00\" \\\n",
    "GROUP BY start_station_id, end_station_id, subscriber_type \\\n",
    ") \\\n",
    "GROUP BY start_station_id, end_station_id \\\n",
    "ORDER BY total_trips desc \\\n",
    "LIMIT 5' > top5morningsc.csv"
   ]
  },
  {
   "cell_type": "code",
   "execution_count": 10,
   "metadata": {},
   "outputs": [],
   "source": [
    "top_5_am_sc = pd.read_csv('top5morningsc.csv')\n",
    "#merging the start_station_id and end_station_id into one column called route_id\n",
    "top_5_am_sc['route_id'] = top_5_am_sc.start_station_id.astype(str)+'-'+top_5_am_sc.end_station_id.astype(str)\n",
    "top_5_am_sc.drop(['start_station_id', 'end_station_id'], axis = 1, inplace = True)"
   ]
  },
  {
   "cell_type": "markdown",
   "metadata": {},
   "source": [
    "- lastly, I merge both tables from the above queries to check that the top 5 morning trips meet the criteria I have defined in 1.1 and 1.2.  "
   ]
  },
  {
   "cell_type": "code",
   "execution_count": 11,
   "metadata": {},
   "outputs": [
    {
     "data": {
      "text/html": [
       "<div>\n",
       "<style scoped>\n",
       "    .dataframe tbody tr th:only-of-type {\n",
       "        vertical-align: middle;\n",
       "    }\n",
       "\n",
       "    .dataframe tbody tr th {\n",
       "        vertical-align: top;\n",
       "    }\n",
       "\n",
       "    .dataframe thead th {\n",
       "        text-align: right;\n",
       "    }\n",
       "</style>\n",
       "<table border=\"1\" class=\"dataframe\">\n",
       "  <thead>\n",
       "    <tr style=\"text-align: right;\">\n",
       "      <th></th>\n",
       "      <th>start_station_name</th>\n",
       "      <th>end_station_name</th>\n",
       "      <th>avg_duration_min</th>\n",
       "      <th>total_trips</th>\n",
       "      <th>subscriber_trips</th>\n",
       "      <th>customer_trips</th>\n",
       "      <th>subscribers_percentage</th>\n",
       "    </tr>\n",
       "    <tr>\n",
       "      <th>route_id</th>\n",
       "      <th></th>\n",
       "      <th></th>\n",
       "      <th></th>\n",
       "      <th></th>\n",
       "      <th></th>\n",
       "      <th></th>\n",
       "      <th></th>\n",
       "    </tr>\n",
       "  </thead>\n",
       "  <tbody>\n",
       "    <tr>\n",
       "      <th>50-61</th>\n",
       "      <td>Harry Bridges Plaza (Ferry Building)</td>\n",
       "      <td>2nd at Townsend</td>\n",
       "      <td>9.59</td>\n",
       "      <td>4556</td>\n",
       "      <td>4489</td>\n",
       "      <td>67</td>\n",
       "      <td>98.53</td>\n",
       "    </tr>\n",
       "    <tr>\n",
       "      <th>74-61</th>\n",
       "      <td>Steuart at Market</td>\n",
       "      <td>2nd at Townsend</td>\n",
       "      <td>8.62</td>\n",
       "      <td>3796</td>\n",
       "      <td>3746</td>\n",
       "      <td>50</td>\n",
       "      <td>98.68</td>\n",
       "    </tr>\n",
       "    <tr>\n",
       "      <th>69-65</th>\n",
       "      <td>San Francisco Caltrain 2 (330 Townsend)</td>\n",
       "      <td>Townsend at 7th</td>\n",
       "      <td>4.59</td>\n",
       "      <td>3548</td>\n",
       "      <td>3496</td>\n",
       "      <td>52</td>\n",
       "      <td>98.53</td>\n",
       "    </tr>\n",
       "    <tr>\n",
       "      <th>70-51</th>\n",
       "      <td>San Francisco Caltrain (Townsend at 4th)</td>\n",
       "      <td>Embarcadero at Folsom</td>\n",
       "      <td>10.46</td>\n",
       "      <td>3372</td>\n",
       "      <td>3349</td>\n",
       "      <td>23</td>\n",
       "      <td>99.32</td>\n",
       "    </tr>\n",
       "    <tr>\n",
       "      <th>70-55</th>\n",
       "      <td>San Francisco Caltrain (Townsend at 4th)</td>\n",
       "      <td>Temporary Transbay Terminal (Howard at Beale)</td>\n",
       "      <td>11.39</td>\n",
       "      <td>3137</td>\n",
       "      <td>3099</td>\n",
       "      <td>38</td>\n",
       "      <td>98.79</td>\n",
       "    </tr>\n",
       "  </tbody>\n",
       "</table>\n",
       "</div>"
      ],
      "text/plain": [
       "                                start_station_name  \\\n",
       "route_id                                             \n",
       "50-61         Harry Bridges Plaza (Ferry Building)   \n",
       "74-61                            Steuart at Market   \n",
       "69-65      San Francisco Caltrain 2 (330 Townsend)   \n",
       "70-51     San Francisco Caltrain (Townsend at 4th)   \n",
       "70-55     San Francisco Caltrain (Townsend at 4th)   \n",
       "\n",
       "                                       end_station_name  avg_duration_min  \\\n",
       "route_id                                                                    \n",
       "50-61                                   2nd at Townsend              9.59   \n",
       "74-61                                   2nd at Townsend              8.62   \n",
       "69-65                                   Townsend at 7th              4.59   \n",
       "70-51                             Embarcadero at Folsom             10.46   \n",
       "70-55     Temporary Transbay Terminal (Howard at Beale)             11.39   \n",
       "\n",
       "          total_trips  subscriber_trips  customer_trips  \\\n",
       "route_id                                                  \n",
       "50-61            4556              4489              67   \n",
       "74-61            3796              3746              50   \n",
       "69-65            3548              3496              52   \n",
       "70-51            3372              3349              23   \n",
       "70-55            3137              3099              38   \n",
       "\n",
       "          subscribers_percentage  \n",
       "route_id                          \n",
       "50-61                      98.53  \n",
       "74-61                      98.68  \n",
       "69-65                      98.53  \n",
       "70-51                      99.32  \n",
       "70-55                      98.79  "
      ]
     },
     "execution_count": 11,
     "metadata": {},
     "output_type": "execute_result"
    }
   ],
   "source": [
    "morning_commutes = top_5_am.merge(top_5_am_sc, on = 'route_id')\n",
    "#removing the trips count repeat column:\n",
    "morning_commutes.drop(['trips'], axis = 1, inplace = True)\n",
    "morning_commutes.set_index('route_id', inplace=True)\n",
    "#adding column for the percentage of subscribers:\n",
    "morning_commutes['subscribers_percentage'] = round(morning_commutes.subscriber_trips/morning_commutes.total_trips, 4)*100\n",
    "morning_commutes.head()"
   ]
  },
  {
   "cell_type": "markdown",
   "metadata": {},
   "source": [
    "From here, we see that the top 5 most popular routes during the morning rush, between 7am and 10am, all consists of 98% or greater subscriber trips.  This fits the criteria that I defined in 1.1, which is that commuter trips should should be taken by mostly subscribers and potentially a small percentage of customers.  The average trip duration of all top 5 morning routes is between 4 minutes and 12 minutes, which also fits the criteria I defined in 1.1, which is that commuter trips should be between 1 and 20 minutes.  In conclusion, I would consider all 5 of these routes to be commuter trips. \n",
    "\n",
    "- next, I will create the same table containing average duration, total trips count, subscriber trips count, customer trips and subscribers trips percentages for the evening rush.  First I query the top 5 trips by count during the evening rush:"
   ]
  },
  {
   "cell_type": "code",
   "execution_count": 21,
   "metadata": {},
   "outputs": [
    {
     "name": "stdout",
     "output_type": "stream",
     "text": [
      "\r",
      "Waiting on bqjob_r7ff510f232edbaae_000001663dbf06ee_1 ... (0s) Current status: DONE   "
     ]
    }
   ],
   "source": [
    "! bq query --use_legacy_sql=false --format=csv '\\\n",
    "SELECT \\\n",
    "  start_station_id, start_station_name, end_station_id, end_station_name, \\\n",
    "  count(*) as trips, \\\n",
    "  round(avg(duration_sec/60),2) as avg_duration_min \\\n",
    "FROM `bigquery-public-data.san_francisco.bikeshare_trips` \\\n",
    "WHERE TIME(start_date) >= \"16:00:00\" AND TIME(start_date) <= \"19:00:00\" \\\n",
    "GROUP BY start_station_id, start_station_name, end_station_id, end_station_name \\\n",
    "ORDER BY trips DESC \\\n",
    "LIMIT 5' > top5evening.csv"
   ]
  },
  {
   "cell_type": "code",
   "execution_count": 12,
   "metadata": {},
   "outputs": [],
   "source": [
    "top_5_pm = pd.read_csv('top5evening.csv')\n",
    "#merging the start_station_id and end_station_id into one column called route_id\n",
    "top_5_pm['route_id'] = top_5_pm.start_station_id.astype(str)+'-'+top_5_pm.end_station_id.astype(str)\n",
    "top_5_pm.drop(['start_station_id', 'end_station_id'], axis = 1, inplace = True)"
   ]
  },
  {
   "cell_type": "markdown",
   "metadata": {},
   "source": [
    "- again, a query of the top 5 routes by most trips count plus columns for number of subscriber trips and customer trips, during the evening rush:"
   ]
  },
  {
   "cell_type": "code",
   "execution_count": 23,
   "metadata": {},
   "outputs": [
    {
     "name": "stdout",
     "output_type": "stream",
     "text": [
      "\r",
      "Waiting on bqjob_r722dbba73a2ed33b_000001663dc143df_1 ... (0s) Current status: DONE   "
     ]
    }
   ],
   "source": [
    "! bq query --use_legacy_sql=false --format=csv '\\\n",
    "SELECT start_station_id, end_station_id, \\\n",
    "  sum(trips) as total_trips, \\\n",
    "  sum(case when subscriber_type = \"Subscriber\" then trips else 0 end) as subscriber_trips, \\\n",
    "  sum(case when subscriber_type = \"Customer\" then trips else 0 end) as customer_trips \\\n",
    "FROM ( \\\n",
    "SELECT \\\n",
    "  start_station_id, end_station_id, subscriber_type, \\\n",
    "  count(*) as trips \\\n",
    "FROM `bigquery-public-data.san_francisco.bikeshare_trips` \\\n",
    "WHERE TIME(start_date) >= \"16:00:00\" AND TIME(start_date) <= \"19:00:00\" \\\n",
    "GROUP BY start_station_id, end_station_id, subscriber_type \\\n",
    ") \\\n",
    "GROUP BY start_station_id, end_station_id \\\n",
    "ORDER BY total_trips desc \\\n",
    "LIMIT 5' > top5eveningsc.csv"
   ]
  },
  {
   "cell_type": "code",
   "execution_count": 13,
   "metadata": {},
   "outputs": [],
   "source": [
    "top_5_pm_sc = pd.read_csv('top5eveningsc.csv')\n",
    "#merging the start_station_id and end_station_id into one column called route_id\n",
    "top_5_pm_sc['route_id'] = top_5_pm_sc.start_station_id.astype(str)+'-'+top_5_pm_sc.end_station_id.astype(str)\n",
    "top_5_pm_sc.drop(['start_station_id', 'end_station_id'], axis = 1, inplace = True)"
   ]
  },
  {
   "cell_type": "markdown",
   "metadata": {},
   "source": [
    "- lastly, I merge both tables from the above queries to check that the top 5 evening trips meet the criteria I have defined in 1.1 and 1.2."
   ]
  },
  {
   "cell_type": "code",
   "execution_count": 14,
   "metadata": {},
   "outputs": [
    {
     "data": {
      "text/html": [
       "<div>\n",
       "<style scoped>\n",
       "    .dataframe tbody tr th:only-of-type {\n",
       "        vertical-align: middle;\n",
       "    }\n",
       "\n",
       "    .dataframe tbody tr th {\n",
       "        vertical-align: top;\n",
       "    }\n",
       "\n",
       "    .dataframe thead th {\n",
       "        text-align: right;\n",
       "    }\n",
       "</style>\n",
       "<table border=\"1\" class=\"dataframe\">\n",
       "  <thead>\n",
       "    <tr style=\"text-align: right;\">\n",
       "      <th></th>\n",
       "      <th>start_station_name</th>\n",
       "      <th>end_station_name</th>\n",
       "      <th>avg_duration_min</th>\n",
       "      <th>total_trips</th>\n",
       "      <th>subscriber_trips</th>\n",
       "      <th>customer_trips</th>\n",
       "      <th>subscribers_percentage</th>\n",
       "    </tr>\n",
       "    <tr>\n",
       "      <th>route_id</th>\n",
       "      <th></th>\n",
       "      <th></th>\n",
       "      <th></th>\n",
       "      <th></th>\n",
       "      <th></th>\n",
       "      <th></th>\n",
       "      <th></th>\n",
       "    </tr>\n",
       "  </thead>\n",
       "  <tbody>\n",
       "    <tr>\n",
       "      <th>61-50</th>\n",
       "      <td>2nd at Townsend</td>\n",
       "      <td>Harry Bridges Plaza (Ferry Building)</td>\n",
       "      <td>8.28</td>\n",
       "      <td>4310</td>\n",
       "      <td>4137</td>\n",
       "      <td>173</td>\n",
       "      <td>95.99</td>\n",
       "    </tr>\n",
       "    <tr>\n",
       "      <th>51-70</th>\n",
       "      <td>Embarcadero at Folsom</td>\n",
       "      <td>San Francisco Caltrain (Townsend at 4th)</td>\n",
       "      <td>10.99</td>\n",
       "      <td>4067</td>\n",
       "      <td>3983</td>\n",
       "      <td>84</td>\n",
       "      <td>97.93</td>\n",
       "    </tr>\n",
       "    <tr>\n",
       "      <th>60-74</th>\n",
       "      <td>Embarcadero at Sansome</td>\n",
       "      <td>Steuart at Market</td>\n",
       "      <td>7.84</td>\n",
       "      <td>4031</td>\n",
       "      <td>3778</td>\n",
       "      <td>253</td>\n",
       "      <td>93.72</td>\n",
       "    </tr>\n",
       "    <tr>\n",
       "      <th>74-70</th>\n",
       "      <td>Steuart at Market</td>\n",
       "      <td>San Francisco Caltrain (Townsend at 4th)</td>\n",
       "      <td>12.25</td>\n",
       "      <td>3440</td>\n",
       "      <td>3349</td>\n",
       "      <td>91</td>\n",
       "      <td>97.35</td>\n",
       "    </tr>\n",
       "    <tr>\n",
       "      <th>55-70</th>\n",
       "      <td>Temporary Transbay Terminal (Howard at Beale)</td>\n",
       "      <td>San Francisco Caltrain (Townsend at 4th)</td>\n",
       "      <td>10.92</td>\n",
       "      <td>3338</td>\n",
       "      <td>3283</td>\n",
       "      <td>55</td>\n",
       "      <td>98.35</td>\n",
       "    </tr>\n",
       "  </tbody>\n",
       "</table>\n",
       "</div>"
      ],
      "text/plain": [
       "                                     start_station_name  \\\n",
       "route_id                                                  \n",
       "61-50                                   2nd at Townsend   \n",
       "51-70                             Embarcadero at Folsom   \n",
       "60-74                            Embarcadero at Sansome   \n",
       "74-70                                 Steuart at Market   \n",
       "55-70     Temporary Transbay Terminal (Howard at Beale)   \n",
       "\n",
       "                                  end_station_name  avg_duration_min  \\\n",
       "route_id                                                               \n",
       "61-50         Harry Bridges Plaza (Ferry Building)              8.28   \n",
       "51-70     San Francisco Caltrain (Townsend at 4th)             10.99   \n",
       "60-74                            Steuart at Market              7.84   \n",
       "74-70     San Francisco Caltrain (Townsend at 4th)             12.25   \n",
       "55-70     San Francisco Caltrain (Townsend at 4th)             10.92   \n",
       "\n",
       "          total_trips  subscriber_trips  customer_trips  \\\n",
       "route_id                                                  \n",
       "61-50            4310              4137             173   \n",
       "51-70            4067              3983              84   \n",
       "60-74            4031              3778             253   \n",
       "74-70            3440              3349              91   \n",
       "55-70            3338              3283              55   \n",
       "\n",
       "          subscribers_percentage  \n",
       "route_id                          \n",
       "61-50                      95.99  \n",
       "51-70                      97.93  \n",
       "60-74                      93.72  \n",
       "74-70                      97.35  \n",
       "55-70                      98.35  "
      ]
     },
     "execution_count": 14,
     "metadata": {},
     "output_type": "execute_result"
    }
   ],
   "source": [
    "evening_commutes = top_5_pm.merge(top_5_pm_sc, on = 'route_id')\n",
    "#removing the trips count repeat column:\n",
    "evening_commutes.drop(['trips'], axis = 1, inplace = True)\n",
    "evening_commutes.set_index('route_id', inplace=True)\n",
    "#adding column for the percentage of subscribers:\n",
    "evening_commutes['subscribers_percentage'] = round(evening_commutes.subscriber_trips/evening_commutes.total_trips, 4)*100\n",
    "evening_commutes.head()"
   ]
  },
  {
   "cell_type": "markdown",
   "metadata": {},
   "source": [
    "From here, we see that the top 5 most popular routes during the evening rush, between 4pm and 7pm, all consists of 95% or greater subscriber trips. This also fits the criteria that I defined in 1.1, which is that commuter trips should should be taken by mostly subscribers and potentially a small percentage of customers. The average trip duration of all top 5 evening routes is between 7 minutes and 13 minutes, which also fits the criteria I defined in 1.1, which is that commuter trips should be between 1 and 20 minutes. In fact, all 5 average durations are fairly close to the mean and median of most subsriber trips as seen in the 1.1 analysis.  I would also consider all 5 of these trips to be commuter trips, based on my defined criteria in the previous 2 sections. "
   ]
  },
  {
   "cell_type": "markdown",
   "metadata": {},
   "source": [
    "### Question 1 Answer"
   ]
  },
  {
   "cell_type": "markdown",
   "metadata": {},
   "source": [
    "For the answer of the top 5 commuter trips, I think that its perfectly valid to define 5 commuter routes for the morning rush independently of 5 commuter trips for the evening rush. In that case, my response here would be the 2 dataframes created - morning_commutes and evening_commutes.  \n",
    "\n",
    "However, I think it would be interesting to compare the trip counts for all 5 routes so see how many routes have return trips in the top 5.  For this comparison, I will combine the two dataframes into one:"
   ]
  },
  {
   "cell_type": "code",
   "execution_count": 15,
   "metadata": {},
   "outputs": [
    {
     "data": {
      "text/html": [
       "<div>\n",
       "<style scoped>\n",
       "    .dataframe tbody tr th:only-of-type {\n",
       "        vertical-align: middle;\n",
       "    }\n",
       "\n",
       "    .dataframe tbody tr th {\n",
       "        vertical-align: top;\n",
       "    }\n",
       "\n",
       "    .dataframe thead th {\n",
       "        text-align: right;\n",
       "    }\n",
       "</style>\n",
       "<table border=\"1\" class=\"dataframe\">\n",
       "  <thead>\n",
       "    <tr style=\"text-align: right;\">\n",
       "      <th></th>\n",
       "      <th>start_station_name</th>\n",
       "      <th>end_station_name</th>\n",
       "      <th>avg_duration_min</th>\n",
       "      <th>total_trips</th>\n",
       "      <th>subscriber_trips</th>\n",
       "      <th>customer_trips</th>\n",
       "      <th>subscribers_percentage</th>\n",
       "      <th>rush_period</th>\n",
       "    </tr>\n",
       "    <tr>\n",
       "      <th>route_id</th>\n",
       "      <th></th>\n",
       "      <th></th>\n",
       "      <th></th>\n",
       "      <th></th>\n",
       "      <th></th>\n",
       "      <th></th>\n",
       "      <th></th>\n",
       "      <th></th>\n",
       "    </tr>\n",
       "  </thead>\n",
       "  <tbody>\n",
       "    <tr>\n",
       "      <th>50-61</th>\n",
       "      <td>Harry Bridges Plaza (Ferry Building)</td>\n",
       "      <td>2nd at Townsend</td>\n",
       "      <td>9.59</td>\n",
       "      <td>4556</td>\n",
       "      <td>4489</td>\n",
       "      <td>67</td>\n",
       "      <td>98.53</td>\n",
       "      <td>morning</td>\n",
       "    </tr>\n",
       "    <tr>\n",
       "      <th>61-50</th>\n",
       "      <td>2nd at Townsend</td>\n",
       "      <td>Harry Bridges Plaza (Ferry Building)</td>\n",
       "      <td>8.28</td>\n",
       "      <td>4310</td>\n",
       "      <td>4137</td>\n",
       "      <td>173</td>\n",
       "      <td>95.99</td>\n",
       "      <td>evening</td>\n",
       "    </tr>\n",
       "    <tr>\n",
       "      <th>51-70</th>\n",
       "      <td>Embarcadero at Folsom</td>\n",
       "      <td>San Francisco Caltrain (Townsend at 4th)</td>\n",
       "      <td>10.99</td>\n",
       "      <td>4067</td>\n",
       "      <td>3983</td>\n",
       "      <td>84</td>\n",
       "      <td>97.93</td>\n",
       "      <td>evening</td>\n",
       "    </tr>\n",
       "    <tr>\n",
       "      <th>60-74</th>\n",
       "      <td>Embarcadero at Sansome</td>\n",
       "      <td>Steuart at Market</td>\n",
       "      <td>7.84</td>\n",
       "      <td>4031</td>\n",
       "      <td>3778</td>\n",
       "      <td>253</td>\n",
       "      <td>93.72</td>\n",
       "      <td>evening</td>\n",
       "    </tr>\n",
       "    <tr>\n",
       "      <th>74-61</th>\n",
       "      <td>Steuart at Market</td>\n",
       "      <td>2nd at Townsend</td>\n",
       "      <td>8.62</td>\n",
       "      <td>3796</td>\n",
       "      <td>3746</td>\n",
       "      <td>50</td>\n",
       "      <td>98.68</td>\n",
       "      <td>morning</td>\n",
       "    </tr>\n",
       "    <tr>\n",
       "      <th>69-65</th>\n",
       "      <td>San Francisco Caltrain 2 (330 Townsend)</td>\n",
       "      <td>Townsend at 7th</td>\n",
       "      <td>4.59</td>\n",
       "      <td>3548</td>\n",
       "      <td>3496</td>\n",
       "      <td>52</td>\n",
       "      <td>98.53</td>\n",
       "      <td>morning</td>\n",
       "    </tr>\n",
       "    <tr>\n",
       "      <th>74-70</th>\n",
       "      <td>Steuart at Market</td>\n",
       "      <td>San Francisco Caltrain (Townsend at 4th)</td>\n",
       "      <td>12.25</td>\n",
       "      <td>3440</td>\n",
       "      <td>3349</td>\n",
       "      <td>91</td>\n",
       "      <td>97.35</td>\n",
       "      <td>evening</td>\n",
       "    </tr>\n",
       "    <tr>\n",
       "      <th>70-51</th>\n",
       "      <td>San Francisco Caltrain (Townsend at 4th)</td>\n",
       "      <td>Embarcadero at Folsom</td>\n",
       "      <td>10.46</td>\n",
       "      <td>3372</td>\n",
       "      <td>3349</td>\n",
       "      <td>23</td>\n",
       "      <td>99.32</td>\n",
       "      <td>morning</td>\n",
       "    </tr>\n",
       "    <tr>\n",
       "      <th>55-70</th>\n",
       "      <td>Temporary Transbay Terminal (Howard at Beale)</td>\n",
       "      <td>San Francisco Caltrain (Townsend at 4th)</td>\n",
       "      <td>10.92</td>\n",
       "      <td>3338</td>\n",
       "      <td>3283</td>\n",
       "      <td>55</td>\n",
       "      <td>98.35</td>\n",
       "      <td>evening</td>\n",
       "    </tr>\n",
       "    <tr>\n",
       "      <th>70-55</th>\n",
       "      <td>San Francisco Caltrain (Townsend at 4th)</td>\n",
       "      <td>Temporary Transbay Terminal (Howard at Beale)</td>\n",
       "      <td>11.39</td>\n",
       "      <td>3137</td>\n",
       "      <td>3099</td>\n",
       "      <td>38</td>\n",
       "      <td>98.79</td>\n",
       "      <td>morning</td>\n",
       "    </tr>\n",
       "  </tbody>\n",
       "</table>\n",
       "</div>"
      ],
      "text/plain": [
       "                                     start_station_name  \\\n",
       "route_id                                                  \n",
       "50-61              Harry Bridges Plaza (Ferry Building)   \n",
       "61-50                                   2nd at Townsend   \n",
       "51-70                             Embarcadero at Folsom   \n",
       "60-74                            Embarcadero at Sansome   \n",
       "74-61                                 Steuart at Market   \n",
       "69-65           San Francisco Caltrain 2 (330 Townsend)   \n",
       "74-70                                 Steuart at Market   \n",
       "70-51          San Francisco Caltrain (Townsend at 4th)   \n",
       "55-70     Temporary Transbay Terminal (Howard at Beale)   \n",
       "70-55          San Francisco Caltrain (Townsend at 4th)   \n",
       "\n",
       "                                       end_station_name  avg_duration_min  \\\n",
       "route_id                                                                    \n",
       "50-61                                   2nd at Townsend              9.59   \n",
       "61-50              Harry Bridges Plaza (Ferry Building)              8.28   \n",
       "51-70          San Francisco Caltrain (Townsend at 4th)             10.99   \n",
       "60-74                                 Steuart at Market              7.84   \n",
       "74-61                                   2nd at Townsend              8.62   \n",
       "69-65                                   Townsend at 7th              4.59   \n",
       "74-70          San Francisco Caltrain (Townsend at 4th)             12.25   \n",
       "70-51                             Embarcadero at Folsom             10.46   \n",
       "55-70          San Francisco Caltrain (Townsend at 4th)             10.92   \n",
       "70-55     Temporary Transbay Terminal (Howard at Beale)             11.39   \n",
       "\n",
       "          total_trips  subscriber_trips  customer_trips  \\\n",
       "route_id                                                  \n",
       "50-61            4556              4489              67   \n",
       "61-50            4310              4137             173   \n",
       "51-70            4067              3983              84   \n",
       "60-74            4031              3778             253   \n",
       "74-61            3796              3746              50   \n",
       "69-65            3548              3496              52   \n",
       "74-70            3440              3349              91   \n",
       "70-51            3372              3349              23   \n",
       "55-70            3338              3283              55   \n",
       "70-55            3137              3099              38   \n",
       "\n",
       "          subscribers_percentage rush_period  \n",
       "route_id                                      \n",
       "50-61                      98.53     morning  \n",
       "61-50                      95.99     evening  \n",
       "51-70                      97.93     evening  \n",
       "60-74                      93.72     evening  \n",
       "74-61                      98.68     morning  \n",
       "69-65                      98.53     morning  \n",
       "74-70                      97.35     evening  \n",
       "70-51                      99.32     morning  \n",
       "55-70                      98.35     evening  \n",
       "70-55                      98.79     morning  "
      ]
     },
     "execution_count": 15,
     "metadata": {},
     "output_type": "execute_result"
    }
   ],
   "source": [
    "#first, I will create a column in both data frames called rush_period\n",
    "#with a value of evening or morning to distinguish which rush period the route is most popular\n",
    "\n",
    "morning_commutes['rush_period'] = 'morning'\n",
    "evening_commutes['rush_period'] = 'evening'\n",
    "\n",
    "top_routes_combined = morning_commutes.append(evening_commutes).sort_values(by=['total_trips'], ascending = False)\n",
    "top_routes_combined.head(10)"
   ]
  },
  {
   "cell_type": "markdown",
   "metadata": {},
   "source": [
    "From this combined dataframe, it appears that 3 of the top 5 morning routes have a evening return routes also in the top 5.  These routes are:\n",
    "1. Harry Bridges Plaza (Ferry Building) to 2nd at Townsend\n",
    "2. San Francisco Caltrain (Townsend at 4th) to Temporary Transbay Terminal (Howard at Beale)\n",
    "3. San Francisco Caltrain (Townsend at 4th to Embarcadero at Folsom\t"
   ]
  },
  {
   "cell_type": "markdown",
   "metadata": {},
   "source": [
    "One way to consider the top 5 routes is to consider a morning route and its return evening route as independent routes.  While it is resonable to presume that many commuters takes the same route but in the opposite direction in the evening, there could also be many commuters who take different return routes from office to home in the evening.  They may be motivated by personal needs such as exercise habits, grocery shopping, other errands, or traffic patterns.  Thus, without subscriber identification data, we actually do not have a sense of how many of the evening return trips are taken by the same subscribers who take the morning trips.  If we consider the morning routes and evening routes as different routes, then the top 5 commuter trips from morning and evening rush periods combined are:"
   ]
  },
  {
   "cell_type": "code",
   "execution_count": 16,
   "metadata": {},
   "outputs": [
    {
     "data": {
      "text/html": [
       "<div>\n",
       "<style scoped>\n",
       "    .dataframe tbody tr th:only-of-type {\n",
       "        vertical-align: middle;\n",
       "    }\n",
       "\n",
       "    .dataframe tbody tr th {\n",
       "        vertical-align: top;\n",
       "    }\n",
       "\n",
       "    .dataframe thead th {\n",
       "        text-align: right;\n",
       "    }\n",
       "</style>\n",
       "<table border=\"1\" class=\"dataframe\">\n",
       "  <thead>\n",
       "    <tr style=\"text-align: right;\">\n",
       "      <th></th>\n",
       "      <th>start_station_name</th>\n",
       "      <th>end_station_name</th>\n",
       "      <th>avg_duration_min</th>\n",
       "      <th>total_trips</th>\n",
       "      <th>subscriber_trips</th>\n",
       "      <th>customer_trips</th>\n",
       "      <th>subscribers_percentage</th>\n",
       "      <th>rush_period</th>\n",
       "    </tr>\n",
       "    <tr>\n",
       "      <th>route_id</th>\n",
       "      <th></th>\n",
       "      <th></th>\n",
       "      <th></th>\n",
       "      <th></th>\n",
       "      <th></th>\n",
       "      <th></th>\n",
       "      <th></th>\n",
       "      <th></th>\n",
       "    </tr>\n",
       "  </thead>\n",
       "  <tbody>\n",
       "    <tr>\n",
       "      <th>50-61</th>\n",
       "      <td>Harry Bridges Plaza (Ferry Building)</td>\n",
       "      <td>2nd at Townsend</td>\n",
       "      <td>9.59</td>\n",
       "      <td>4556</td>\n",
       "      <td>4489</td>\n",
       "      <td>67</td>\n",
       "      <td>98.53</td>\n",
       "      <td>morning</td>\n",
       "    </tr>\n",
       "    <tr>\n",
       "      <th>61-50</th>\n",
       "      <td>2nd at Townsend</td>\n",
       "      <td>Harry Bridges Plaza (Ferry Building)</td>\n",
       "      <td>8.28</td>\n",
       "      <td>4310</td>\n",
       "      <td>4137</td>\n",
       "      <td>173</td>\n",
       "      <td>95.99</td>\n",
       "      <td>evening</td>\n",
       "    </tr>\n",
       "    <tr>\n",
       "      <th>51-70</th>\n",
       "      <td>Embarcadero at Folsom</td>\n",
       "      <td>San Francisco Caltrain (Townsend at 4th)</td>\n",
       "      <td>10.99</td>\n",
       "      <td>4067</td>\n",
       "      <td>3983</td>\n",
       "      <td>84</td>\n",
       "      <td>97.93</td>\n",
       "      <td>evening</td>\n",
       "    </tr>\n",
       "    <tr>\n",
       "      <th>60-74</th>\n",
       "      <td>Embarcadero at Sansome</td>\n",
       "      <td>Steuart at Market</td>\n",
       "      <td>7.84</td>\n",
       "      <td>4031</td>\n",
       "      <td>3778</td>\n",
       "      <td>253</td>\n",
       "      <td>93.72</td>\n",
       "      <td>evening</td>\n",
       "    </tr>\n",
       "    <tr>\n",
       "      <th>74-61</th>\n",
       "      <td>Steuart at Market</td>\n",
       "      <td>2nd at Townsend</td>\n",
       "      <td>8.62</td>\n",
       "      <td>3796</td>\n",
       "      <td>3746</td>\n",
       "      <td>50</td>\n",
       "      <td>98.68</td>\n",
       "      <td>morning</td>\n",
       "    </tr>\n",
       "  </tbody>\n",
       "</table>\n",
       "</div>"
      ],
      "text/plain": [
       "                            start_station_name  \\\n",
       "route_id                                         \n",
       "50-61     Harry Bridges Plaza (Ferry Building)   \n",
       "61-50                          2nd at Townsend   \n",
       "51-70                    Embarcadero at Folsom   \n",
       "60-74                   Embarcadero at Sansome   \n",
       "74-61                        Steuart at Market   \n",
       "\n",
       "                                  end_station_name  avg_duration_min  \\\n",
       "route_id                                                               \n",
       "50-61                              2nd at Townsend              9.59   \n",
       "61-50         Harry Bridges Plaza (Ferry Building)              8.28   \n",
       "51-70     San Francisco Caltrain (Townsend at 4th)             10.99   \n",
       "60-74                            Steuart at Market              7.84   \n",
       "74-61                              2nd at Townsend              8.62   \n",
       "\n",
       "          total_trips  subscriber_trips  customer_trips  \\\n",
       "route_id                                                  \n",
       "50-61            4556              4489              67   \n",
       "61-50            4310              4137             173   \n",
       "51-70            4067              3983              84   \n",
       "60-74            4031              3778             253   \n",
       "74-61            3796              3746              50   \n",
       "\n",
       "          subscribers_percentage rush_period  \n",
       "route_id                                      \n",
       "50-61                      98.53     morning  \n",
       "61-50                      95.99     evening  \n",
       "51-70                      97.93     evening  \n",
       "60-74                      93.72     evening  \n",
       "74-61                      98.68     morning  "
      ]
     },
     "execution_count": 16,
     "metadata": {},
     "output_type": "execute_result"
    }
   ],
   "source": [
    "top_routes_combined.head(5)"
   ]
  },
  {
   "cell_type": "markdown",
   "metadata": {},
   "source": [
    "If we decide to consider return routes as the same route, then we would not double count the return route with route_id 61-50 in the table above.  the top 5 commuter trips from morning and evening rush periods combined would then be:"
   ]
  },
  {
   "cell_type": "code",
   "execution_count": 17,
   "metadata": {},
   "outputs": [
    {
     "data": {
      "text/html": [
       "<div>\n",
       "<style scoped>\n",
       "    .dataframe tbody tr th:only-of-type {\n",
       "        vertical-align: middle;\n",
       "    }\n",
       "\n",
       "    .dataframe tbody tr th {\n",
       "        vertical-align: top;\n",
       "    }\n",
       "\n",
       "    .dataframe thead th {\n",
       "        text-align: right;\n",
       "    }\n",
       "</style>\n",
       "<table border=\"1\" class=\"dataframe\">\n",
       "  <thead>\n",
       "    <tr style=\"text-align: right;\">\n",
       "      <th></th>\n",
       "      <th>start_station_name</th>\n",
       "      <th>end_station_name</th>\n",
       "      <th>avg_duration_min</th>\n",
       "      <th>total_trips</th>\n",
       "      <th>subscriber_trips</th>\n",
       "      <th>customer_trips</th>\n",
       "      <th>subscribers_percentage</th>\n",
       "      <th>rush_period</th>\n",
       "    </tr>\n",
       "    <tr>\n",
       "      <th>route_id</th>\n",
       "      <th></th>\n",
       "      <th></th>\n",
       "      <th></th>\n",
       "      <th></th>\n",
       "      <th></th>\n",
       "      <th></th>\n",
       "      <th></th>\n",
       "      <th></th>\n",
       "    </tr>\n",
       "  </thead>\n",
       "  <tbody>\n",
       "    <tr>\n",
       "      <th>50-61</th>\n",
       "      <td>Harry Bridges Plaza (Ferry Building)</td>\n",
       "      <td>2nd at Townsend</td>\n",
       "      <td>9.59</td>\n",
       "      <td>4556</td>\n",
       "      <td>4489</td>\n",
       "      <td>67</td>\n",
       "      <td>98.53</td>\n",
       "      <td>morning</td>\n",
       "    </tr>\n",
       "    <tr>\n",
       "      <th>51-70</th>\n",
       "      <td>Embarcadero at Folsom</td>\n",
       "      <td>San Francisco Caltrain (Townsend at 4th)</td>\n",
       "      <td>10.99</td>\n",
       "      <td>4067</td>\n",
       "      <td>3983</td>\n",
       "      <td>84</td>\n",
       "      <td>97.93</td>\n",
       "      <td>evening</td>\n",
       "    </tr>\n",
       "    <tr>\n",
       "      <th>60-74</th>\n",
       "      <td>Embarcadero at Sansome</td>\n",
       "      <td>Steuart at Market</td>\n",
       "      <td>7.84</td>\n",
       "      <td>4031</td>\n",
       "      <td>3778</td>\n",
       "      <td>253</td>\n",
       "      <td>93.72</td>\n",
       "      <td>evening</td>\n",
       "    </tr>\n",
       "    <tr>\n",
       "      <th>74-61</th>\n",
       "      <td>Steuart at Market</td>\n",
       "      <td>2nd at Townsend</td>\n",
       "      <td>8.62</td>\n",
       "      <td>3796</td>\n",
       "      <td>3746</td>\n",
       "      <td>50</td>\n",
       "      <td>98.68</td>\n",
       "      <td>morning</td>\n",
       "    </tr>\n",
       "    <tr>\n",
       "      <th>69-65</th>\n",
       "      <td>San Francisco Caltrain 2 (330 Townsend)</td>\n",
       "      <td>Townsend at 7th</td>\n",
       "      <td>4.59</td>\n",
       "      <td>3548</td>\n",
       "      <td>3496</td>\n",
       "      <td>52</td>\n",
       "      <td>98.53</td>\n",
       "      <td>morning</td>\n",
       "    </tr>\n",
       "  </tbody>\n",
       "</table>\n",
       "</div>"
      ],
      "text/plain": [
       "                               start_station_name  \\\n",
       "route_id                                            \n",
       "50-61        Harry Bridges Plaza (Ferry Building)   \n",
       "51-70                       Embarcadero at Folsom   \n",
       "60-74                      Embarcadero at Sansome   \n",
       "74-61                           Steuart at Market   \n",
       "69-65     San Francisco Caltrain 2 (330 Townsend)   \n",
       "\n",
       "                                  end_station_name  avg_duration_min  \\\n",
       "route_id                                                               \n",
       "50-61                              2nd at Townsend              9.59   \n",
       "51-70     San Francisco Caltrain (Townsend at 4th)             10.99   \n",
       "60-74                            Steuart at Market              7.84   \n",
       "74-61                              2nd at Townsend              8.62   \n",
       "69-65                              Townsend at 7th              4.59   \n",
       "\n",
       "          total_trips  subscriber_trips  customer_trips  \\\n",
       "route_id                                                  \n",
       "50-61            4556              4489              67   \n",
       "51-70            4067              3983              84   \n",
       "60-74            4031              3778             253   \n",
       "74-61            3796              3746              50   \n",
       "69-65            3548              3496              52   \n",
       "\n",
       "          subscribers_percentage rush_period  \n",
       "route_id                                      \n",
       "50-61                      98.53     morning  \n",
       "51-70                      97.93     evening  \n",
       "60-74                      93.72     evening  \n",
       "74-61                      98.68     morning  \n",
       "69-65                      98.53     morning  "
      ]
     },
     "execution_count": 17,
     "metadata": {},
     "output_type": "execute_result"
    }
   ],
   "source": [
    "top_5_unique = top_routes_combined[0:1].append(top_routes_combined[2:6])\n",
    "top_5_unique.head(5)"
   ]
  },
  {
   "cell_type": "markdown",
   "metadata": {},
   "source": [
    "## Question 2 - What are your recommendations for offers (justify based on your findings)?"
   ]
  },
  {
   "cell_type": "markdown",
   "metadata": {},
   "source": [
    "To increase ridership, there are a few stategic directions to consider:\n",
    "1. Increasing the number of customers\n",
    "    1. Better pricing for first-time users or limited time users\n",
    "    2. Tier pricing for single rides\n",
    "    3. Improving infrastructure, such as bike availability\n",
    "2. Increasing the number of subscribers from customers\n",
    "    1. Target customers who are taking popular routes and offer subscription deals to them\n",
    "    2. Offering lower price subsriptions\n",
    "3. Increase subsribers subscription periods\n",
    "    1. Improve infrastructure for most populous zip codes"
   ]
  },
  {
   "cell_type": "markdown",
   "metadata": {},
   "source": [
    "### 2.1.A - Better pricing for customers\n",
    "\n",
    "One thing that I found rather baffling the current pricing at https://www.fordgobike.com/pricing is that the 3-day pass is \\$19.95 for rides with a limit of 30 minutes and \\$3 for each additional minute while a monthly pass is $15 for rides with a limit of 45 minutes and \\$3 for each additional minute.  As a first time customer who may wish to ride a bike for 2-3 days, say for touring the bay area, I am completely unincentivized to sign up for the 3-day pass where I will need to pay \\$5 more for a shorter time limit to my rides.  In fact given this pricing structure, it is highly possible that multi-day first time users may sign up for a subscription instead.  \n",
    "\n",
    "While this confusing pricing scheme may appear to be a tactic to gain subscribers, it could lead to possible profit loss.  First, the current pricing scheme artificially inflates the number of subscribers with short term customers, which means that there will be more wasted effort to target subscribers with promotions later.  Secondly, there is actually a \\$5 revenue loss from each multi-day customer.  \n",
    "\n",
    "The pricing scheme should instead incentivize more short-term customers to purchase the 1 day or 3 day passes at their current prices (or greater), while not causing a significant detriment to the current subscribers count.  We can consider adding an additional pricing tier to detect customers that are potential subscribers.  \n",
    "\n",
    "From dataframes created in 1.1, we have that:"
   ]
  },
  {
   "cell_type": "code",
   "execution_count": 18,
   "metadata": {},
   "outputs": [
    {
     "data": {
      "text/plain": [
       "0.993713090681936"
      ]
     },
     "execution_count": 18,
     "metadata": {},
     "output_type": "execute_result"
    }
   ],
   "source": [
    "subscriber_durations[subscriber_durations.duration_min<=30].duration_min.count()/subscriber_durations.duration_min.count()"
   ]
  },
  {
   "cell_type": "code",
   "execution_count": 19,
   "metadata": {},
   "outputs": [
    {
     "data": {
      "text/plain": [
       "0.30709236965404324"
      ]
     },
     "execution_count": 19,
     "metadata": {},
     "output_type": "execute_result"
    }
   ],
   "source": [
    "customer_durations[customer_durations.duration_min>30].duration_min.count()/customer_durations.duration_min.count()"
   ]
  },
  {
   "cell_type": "markdown",
   "metadata": {},
   "source": [
    "From the calculations above, we see that ~99.3% of subscribers take rides that are 30 minutes or less.  On the otherhand there is approximately 30.7% of customers who take rides that are more than 30 minutes.  Therefore the current pricing may actually turn away customers who wish to take long term rides, due to the additional \\$3 penalty for rides past a time limit.  Also, I can recall from 1.1 that within the 85th percentile of customers, ride durations are as long as 80+ minutes.  \n",
    "\n",
    "Therefore, I would propose the following pricing changes:\n",
    "1. Keep the monthly subscription price at \\$15 but limit rides to 30 minutes.  \n",
    "2. \\$7.95 for 24 hours and \\$11.95 for 3 days for unlimited rides up to 20 minutes plus \\$3 for every 15 minutes after\n",
    "3. \\$9.95 for 24 hours and \\$19.95 for 3 days for unlimited rides up to 45 minutes plus \\$3 for every 15 minutes after\n",
    "4. \\$14.95 for 24 hours and \\$29.95 for 3 days for unlimited rides of any length\n",
    "\n",
    "Change (1) will not lead to a significant loss of subscribers, as this change would only affect 6.3% of rides.  To ensure that no subscribers are lost, I will discuss introducing a second tier monthly price for subscribers in section 2.2.  However change (1) is necessary to make the pricing for (2) through (4) more appealing.  (2) is designed to filter out customers who actually live in the Bay area and are potential subscribers, and gives these customers an opportunity to try out the bike share service before committing to a monthly membership. This will also help with narrowing down the customer segment for targeting when offering subscription deals.  (3) is the current customer pricing but has a greater time limit to attract true short term users.  (4) is a more appealing offer that can increase ridership of short term users even further by providing the added convenience of never needing to return a bike during access pass window. "
   ]
  },
  {
   "cell_type": "markdown",
   "metadata": {},
   "source": [
    "### 2.1.B Tiered Pricing for Single Rides\n",
    "\n",
    "Currently, the pricing for a single ride, according to https://www.fordgobike.com/ is \\$2 for a 30 min ride, with additional \\$3 per 15 min.  The site is also promoting this price as a limited time offer, and mentions that the regular price is actually \\$3 for the first 30 min.  To determine if we should proposed alternate pricings for single rides, we can first take a look at the distribution of subscribers and customers trips based on starting hour:"
   ]
  },
  {
   "cell_type": "code",
   "execution_count": 2,
   "metadata": {},
   "outputs": [
    {
     "name": "stdout",
     "output_type": "stream",
     "text": [
      "Waiting on bqjob_r69cd1bf54fbf9fcb_000001664ade4ae7_1 ... (1s) Current status: DONE   "
     ]
    }
   ],
   "source": [
    "! bq query --use_legacy_sql=false --format=csv '\\\n",
    "SELECT \\\n",
    "  EXTRACT(HOUR FROM start_date) as start_hour, \\\n",
    "  subscriber_type, \\\n",
    "  count(*) as trips \\\n",
    "FROM `bigquery-public-data.san_francisco.bikeshare_trips` \\\n",
    "GROUP BY start_hour, subscriber_type \\\n",
    "ORDER BY start_hour' > tripsbytypeperhour.csv"
   ]
  },
  {
   "cell_type": "code",
   "execution_count": 46,
   "metadata": {},
   "outputs": [
    {
     "data": {
      "text/plain": [
       "<matplotlib.axes._subplots.AxesSubplot at 0x7f51615a0278>"
      ]
     },
     "execution_count": 46,
     "metadata": {},
     "output_type": "execute_result"
    },
    {
     "data": {
      "image/png": "[encoded data removed]",
      "text/plain": [
       "<Figure size 1080x576 with 1 Axes>"
      ]
     },
     "metadata": {},
     "output_type": "display_data"
    }
   ],
   "source": [
    "tripsbytypeperhour = pd.read_csv('tripsbytypeperhour.csv')\n",
    "typeperhour = tripsbytypeperhour.groupby(['start_hour', 'subscriber_type'])['trips'].sum().unstack('subscriber_type')\n",
    "\n",
    "chart_typeperhour = typeperhour.plot(kind='bar', stacked = False, colormap='RdYlGn', figsize = (15,8))\n",
    "chart_typeperhour.set_xlabel('Start Hour', size=20)\n",
    "chart_typeperhour.set_ylabel('Number of Trips', size=20)\n",
    "chart_typeperhour.set_title('Number of Trips by Subscriber Type started per Hour', size=25)\n",
    "pyplot.legend(loc=2, prop={'size': 15}, title='Subscriber Type')\n",
    "\n",
    "chart_typeperhour "
   ]
  },
  {
   "cell_type": "markdown",
   "metadata": {},
   "source": [
    "In this plot, we see that the Subscribers' trips distibution per hour is bimodal, with one peak between start hours 7-9am and and another peak between the start hours 4-6pm, which is consistent with how I identified the morning and afternoon rush in section 1.2.  Unlike the Subscribers trip, the Customers' trip is unimodal, with a rather wide peak around the hours 12 to 4pm.  To see the customer's trip distibution per hour more clearly, I will plot it without the subscribers' data:"
   ]
  },
  {
   "cell_type": "code",
   "execution_count": 48,
   "metadata": {},
   "outputs": [
    {
     "data": {
      "text/plain": [
       "<matplotlib.axes._subplots.AxesSubplot at 0x7f516127fb70>"
      ]
     },
     "execution_count": 48,
     "metadata": {},
     "output_type": "execute_result"
    },
    {
     "data": {
      "image/png": "[encoded data removed]",
      "text/plain": [
       "<Figure size 1080x576 with 1 Axes>"
      ]
     },
     "metadata": {},
     "output_type": "display_data"
    }
   ],
   "source": [
    "customersperhour = typeperhour['Customer']\n",
    "\n",
    "chart_customersperhour = customersperhour.plot(kind='bar', stacked = False, colormap='RdYlGn', figsize = (15,8))\n",
    "chart_customersperhour .set_xlabel('Start Hour', size=20)\n",
    "chart_customersperhour .set_ylabel('Number of Trips', size=20)\n",
    "chart_customersperhour .set_title('Number of Trips by Customers started per Hour', size=25)\n",
    "\n",
    "chart_customersperhour"
   ]
  },
  {
   "cell_type": "markdown",
   "metadata": {},
   "source": [
    "In this plot, we can see more clearly that there is a peak between the hours of 12pm and 4 pm, where the number of trips count is fairly even.  There is still a fairly high number of trips that start at 11pm, before the peak period, as well as at 5pm, immediately after the peak period.  However, there is fairly rapid decline in the number of trips before 10 am and after 6pm.  \n",
    "\n",
    "One thing to note here is that the number of customer trips that start during the morning or evening rush periods is roughly 60% or less than that of the trips count during the 12-4pm peak period.  Without further investigation of bike availability (performed in the next section), it is difficult to say if this drop off in ridership is due to customer preferences alone, or due to bike availability.  \n",
    "\n",
    "Independent of any infrastructure improvements, such as increasing the bike + docks count, some additional pricing proposals for single rides can be made based on this data:\n",
    "1. In order to not lose potential single-ride customers, we can keep the regular pricing at \\$3 a ride for limit 30 minute rides.  However,  I would recommend that this pricing be kept during the peak hours and the commuting rush periods, so from only 8am to 8pm.  \n",
    "2. In addition to this, we can offer a promotion for peak time rides (12-4pm) at \\$5 a ride with a longer limit, say 1-2 hours.  This is still lower than the price for a 24 hour pass, and has the potential to attract customers (say tourists) who may want to take longer rides during the day for non-commuting purposes. This is assuming that customers who are not commuters have a preference for these start times.  \n",
    "3. For start times before 8am and after 8pm, the customer segment appears to be small, since this time period has the least amount of riders.  Although it is unlikely for us to gain more riders during this time period, since humans in general prefer to ride during sunlight hours, we can still attempt to promote ridership even further by lowering the single ride price to \\$1.5 per ride for the time period from 8am to 8pm. "
   ]
  },
  {
   "cell_type": "markdown",
   "metadata": {},
   "source": [
    "### 2.1.C Improving Infrastructure, such as bike or dock availability.  "
   ]
  },
  {
   "cell_type": "markdown",
   "metadata": {},
   "source": [
    "Adding available bikes and docks for better accessibility has the potential to increase customers and subscribers. First, let's query for the number of stations owned by Ford GoBike:"
   ]
  },
  {
   "cell_type": "code",
   "execution_count": 65,
   "metadata": {},
   "outputs": [
    {
     "name": "stdout",
     "output_type": "stream",
     "text": [
      "Waiting on bqjob_r69421788d6cec21_000001664b785d1a_1 ... (0s) Current status: DONE   \n",
      "+-----+\n",
      "| f0_ |\n",
      "+-----+\n",
      "|  75 |\n",
      "+-----+\n"
     ]
    }
   ],
   "source": [
    "! bq query --use_legacy_sql=false '\\\n",
    "SELECT \\\n",
    "  count(distinct station_id) \\\n",
    "FROM `bigquery-public-data.san_francisco.bikeshare_status`'"
   ]
  },
  {
   "cell_type": "markdown",
   "metadata": {},
   "source": [
    "We see from this output that there are 75 total stations.  Next, I would like to compare popularity fo all of the stations with the number of total available bikes at each station.  First, let's query for the popularity of stations by the count of trips that start from each station:"
   ]
  },
  {
   "cell_type": "code",
   "execution_count": 66,
   "metadata": {},
   "outputs": [
    {
     "name": "stdout",
     "output_type": "stream",
     "text": [
      "\r",
      "Waiting on bqjob_r18441bf9f9518992_000001664b787589_1 ... (0s) Current status: DONE   "
     ]
    }
   ],
   "source": [
    "! bq query --use_legacy_sql=false --format=csv '\\\n",
    "SELECT \\\n",
    "  start_station_id, \\\n",
    "  count(*) as trips \\\n",
    "FROM `bigquery-public-data.san_francisco.bikeshare_trips` \\\n",
    "GROUP by  start_station_id \\\n",
    "ORDER by start_station_id' > tripsbystation.csv"
   ]
  },
  {
   "cell_type": "code",
   "execution_count": 68,
   "metadata": {},
   "outputs": [],
   "source": [
    "tripsbystation = pd.read_csv('tripsbystation.csv')\n",
    "tripsbystation.set_index('start_station_id', inplace = True)"
   ]
  },
  {
   "cell_type": "markdown",
   "metadata": {},
   "source": [
    "Next, query by total bikes per station from the table bikeshare_status.  From the sync session in week 2, we know that bike_share status shows event data of a moments in time of each of the stations.  We defined the total number of bikes at any station to be docks_available + bikes_available.  Given some other exploratory analysis that I performed, I noticed that the number of bikes and docks changed overtime for some stations. Therefore, I used the max() function in the query below to select the maximum availability of all stations in the last year (2016) to give an estimate of the most recent total bike availability.  "
   ]
  },
  {
   "cell_type": "code",
   "execution_count": 78,
   "metadata": {},
   "outputs": [
    {
     "name": "stdout",
     "output_type": "stream",
     "text": [
      "Waiting on bqjob_r2333e35317cf9f60_000001664b8f47a0_1 ... (10s) Current status: DONE   "
     ]
    }
   ],
   "source": [
    "! bq query --use_legacy_sql=false --format=csv '\\\n",
    "SELECT \\\n",
    "  station_id, \\\n",
    "  max(bikes_available + docks_available) as total_bikes \\\n",
    "FROM `bigquery-public-data.san_francisco.bikeshare_status` \\\n",
    "Where Date(time) >= \"2016-01-01\" \\\n",
    "Group by station_id \\\n",
    "Order by station_id' > totalbikesbystation.csv"
   ]
  },
  {
   "cell_type": "code",
   "execution_count": 81,
   "metadata": {},
   "outputs": [],
   "source": [
    "totalbikesbystation = pd.read_csv('totalbikesbystation.csv')\n",
    "totalbikesbystation.set_index('station_id', inplace = True)"
   ]
  },
  {
   "cell_type": "code",
   "execution_count": 92,
   "metadata": {},
   "outputs": [
    {
     "data": {
      "text/plain": [
       "Text(0.5,1,'Number of Available Bikes by Station')"
      ]
     },
     "execution_count": 92,
     "metadata": {},
     "output_type": "execute_result"
    },
    {
     "data": {
      "image/png": "[encoded data removed]",
      "text/plain": [
       "<Figure size 1440x1080 with 2 Axes>"
      ]
     },
     "metadata": {},
     "output_type": "display_data"
    }
   ],
   "source": [
    "pyplot.rc('xtick', labelsize=10) \n",
    "\n",
    "stations_fig, axes = pyplot.subplots(nrows=2, ncols=1)\n",
    "chart_tripsbystation = tripsbystation.plot(kind='bar', stacked = False, colormap='RdYlGn_r', figsize = (20,15), ax = axes[0])\n",
    "chart_tripsbystation.set_xlabel('Station Id', size=14)\n",
    "chart_tripsbystation.set_ylabel('Number of Trips', size=14)\n",
    "chart_tripsbystation.set_title('Number of Trips by Station', size=15)\n",
    "\n",
    "chart_totalbikesbystation = totalbikesbystation.plot( kind='bar', stacked = False, colormap='RdYlGn', figsize = (20,15), ax = axes[1])\n",
    "chart_totalbikesbystation.set_xlabel('Station Id', size=14)\n",
    "chart_totalbikesbystation.set_ylabel('Number of Total Bikes', size=14)\n",
    "chart_totalbikesbystation.set_title('Number of Available Bikes by Station', size=15)"
   ]
  },
  {
   "cell_type": "markdown",
   "metadata": {},
   "source": [
    "In comparing the 2 bar charts above, it appears that almost ever station is represented in both charts, with the exception of station 87 which as 0 bikes and 0 docks.  Of course as expected, station 87 is never used as a starting station.  \n",
    "\n",
    "What is quite alarming here is that there appears to be some improproper allocation of resources.  Station 2 and Stations with Id number 39-82, with the exception of 46, 58, 59, and 80, all have significantly higher number of starting trips than all other stations.  However, we we look at the total number of bikes, most stations have 15-18, with a handful of stations that have 10, and several stations with more than 20.  Stations 2, 22, 25, 26, 90, 91 have the most bikes available but these are some of the least popular stations. The amount of bikes available at each station is in no way correlated with the popularity of the station as a starting point for trips.  Based on trips count and bikes count comparison alone, I would recommend that some bikes+docks be moved to the more popular stations.  To determine which stations need more bikes, we need another query on how many stations actually face bike shortage.  \n",
    "\n",
    "Assuming that each row in bikeshare_status represents an instance in which a bike is rented or returned, I will refer to each row as an instance.  A station with severe bike shortage is thus a station that experiences many instances of bike_availability being low.  Suppose we set the threshold for bike shortage as instances where a station has 0 available bikes.  I will also limit the query to select instances that occur during most common ridership hours.  Based on the chart \"Number of Trips by Subscriber Type started per Hour\" from section 2.1.B, I will limit the query timeframe to the hours with 20000 trips or more, so the time limit of 6am to 9pm.  Then we can run the following to query to find which stations most often have no available bikes:"
   ]
  },
  {
   "cell_type": "code",
   "execution_count": 94,
   "metadata": {},
   "outputs": [
    {
     "name": "stdout",
     "output_type": "stream",
     "text": [
      "Waiting on bqjob_r54c3203272ec9ddb_000001664bc9120b_1 ... (2s) Current status: DONE   "
     ]
    }
   ],
   "source": [
    "! bq query --use_legacy_sql=false --format=csv ' \\\n",
    "SELECT \\\n",
    "  station_id, \\\n",
    "  count(*) as instances \\\n",
    "FROM `bigquery-public-data.san_francisco.bikeshare_status` \\\n",
    "Where bikes_available = 0 AND Time(time) >= \"06:00:00\" AND Time(time) <= \"09:00:00\" \\\n",
    "Group by station_id \\\n",
    "Order by station_id' > bikeshortageinstances.csv"
   ]
  },
  {
   "cell_type": "code",
   "execution_count": 95,
   "metadata": {},
   "outputs": [],
   "source": [
    "bikeshortageinstances = pd.read_csv('bikeshortageinstances.csv')\n",
    "bikeshortageinstances.set_index('station_id', inplace = True)"
   ]
  },
  {
   "cell_type": "markdown",
   "metadata": {},
   "source": [
    "Next, I will create plots to compare station popularity with instances of bike shortage:"
   ]
  },
  {
   "cell_type": "code",
   "execution_count": 105,
   "metadata": {},
   "outputs": [
    {
     "data": {
      "text/plain": [
       "Text(0.5,1,'Stations with Bike Shortage during Daylight Hours')"
      ]
     },
     "execution_count": 105,
     "metadata": {},
     "output_type": "execute_result"
    },
    {
     "data": {
      "image/png": "[encoded data removed]",
      "text/plain": [
       "<Figure size 1440x1080 with 2 Axes>"
      ]
     },
     "metadata": {},
     "output_type": "display_data"
    }
   ],
   "source": [
    "stations_fig_2, axes = pyplot.subplots(nrows=2, ncols=1)\n",
    "\n",
    "chart_tripsbystation = tripsbystation.plot(kind='bar', stacked = False, colormap='RdYlGn_r', figsize = (20,15), ax = axes[0])\n",
    "chart_tripsbystation.set_xlabel('Station Id', size=14)\n",
    "chart_tripsbystation.set_ylabel('Number of Trips', size=14)\n",
    "chart_tripsbystation.set_title('Number of Trips by Station', size=15)\n",
    "\n",
    "chart_bikeshortageinstances = bikeshortageinstances.plot(kind='bar', stacked = False, colormap='RdBu_r', figsize = (20,15), ax = axes[1])\n",
    "chart_bikeshortageinstances.set_xlabel('Station Id', size=14)\n",
    "chart_bikeshortageinstances.set_ylabel('Instances of No Available Bikes', size=14)\n",
    "chart_bikeshortageinstances.set_title('Stations with Bike Shortage during Daylight Hours', size=15)\n"
   ]
  },
  {
   "cell_type": "markdown",
   "metadata": {},
   "source": [
    "The first major feature we see in the Bike Shortage plot is that stations 88-91 are not even represented, meaning that they haven no instances of bike shortage between the hours of 6am to 9pm.  Recalling from the chart of total number of bikes, these 4 stations actually have some of the largest bike counts.  Other stations with very almost negligible shortage instances are 9,12,28,38.  These stations are also amongst the least popular starting stations. In addition, we see that with the exception of 2 stations - 27 and 32 - the lower numbered stations (<39) have the fewest instances of shortage which being the least popular.  On the other hand, the higher numbered stations (39-82), with some exceptions, are the most popular starting stations while having some of the highest counts of shortage instances.  \n",
    "\n",
    "With this analysis, I propose the following:\n",
    "1.  Ford GoBike should first consider a re-allocation of resources.  This is under the assumption that moving bikes+docks to different locations will cost less than building new docs and suppling more bikes.  Bikes from the least popular stations that also faces the least instances of 0 bike availability, namely 88-91 and 9,12,28,38 are prime candidates for reduction of docks and bikes.  Their docks and bikes can then be moved to stations that have greater need.  \n",
    "2. Ford GoBike has the capital to do so, they should invest in building more docks and supplying more bikes to stations that face high instances of shortage.  Anytime where a station has no bikes represents potential moments of customer loss or disgruntled subscriber who may consider quitting their memebership.  The goal of improving infrastructure should be to ensure that all stations have no instances of unavailability.  However, if resources are limited, then the stations with high popularity as starting stations and the stations that face the most instances of 0 available bikes should be targeted first.  \n",
    "\n",
    "Given that there are only 75 stations, I feel that moving bikes from the 8 stations that are both unpopular and face negligible shortage (88-91 and 9,12,28,38) to the top 10 stations most in need, and then adding a few docks and bikes to these top 10 could already significantly change what data landscape.  Then running the analysis of popular stations compared with instances of 0 bike availability iteratively could help target additional stations that require docks+bikes adjustment.  \n",
    "\n",
    "The top 10 stations that are most in need can be selected from the following 2 query results:"
   ]
  },
  {
   "cell_type": "code",
   "execution_count": 101,
   "metadata": {},
   "outputs": [
    {
     "name": "stdout",
     "output_type": "stream",
     "text": [
      "Waiting on bqjob_r350ed1158455f494_000001664bd9f64d_1 ... (0s) Current status: DONE   \n",
      "+------------------+-------+\n",
      "| start_station_id | trips |\n",
      "+------------------+-------+\n",
      "|               70 | 72683 |\n",
      "|               69 | 56100 |\n",
      "|               50 | 49062 |\n",
      "|               60 | 41137 |\n",
      "|               61 | 39936 |\n",
      "|               55 | 39200 |\n",
      "|               74 | 38531 |\n",
      "|               77 | 35142 |\n",
      "|               65 | 34894 |\n",
      "|               67 | 30209 |\n",
      "+------------------+-------+\n"
     ]
    }
   ],
   "source": [
    "#top 10 most popular starting stations\n",
    "! bq query --use_legacy_sql=false '\\\n",
    "SELECT \\\n",
    "  start_station_id, \\\n",
    "  count(*) as trips \\\n",
    "FROM `bigquery-public-data.san_francisco.bikeshare_trips` \\\n",
    "GROUP by  start_station_id \\\n",
    "ORDER by trips DESC \\\n",
    "Limit 10'"
   ]
  },
  {
   "cell_type": "code",
   "execution_count": 103,
   "metadata": {},
   "outputs": [
    {
     "name": "stdout",
     "output_type": "stream",
     "text": [
      "Waiting on bqjob_r29d1e0734b4bf10e_000001664bdb9536_1 ... (3s) Current status: DONE   \n",
      "+------------+-----------+\n",
      "| station_id | instances |\n",
      "+------------+-----------+\n",
      "|         60 |      7485 |\n",
      "|         62 |      6914 |\n",
      "|         73 |      6608 |\n",
      "|         45 |      6324 |\n",
      "|         70 |      5897 |\n",
      "|         67 |      5520 |\n",
      "|         48 |      5439 |\n",
      "|         41 |      5178 |\n",
      "|         82 |      4731 |\n",
      "|         32 |      4120 |\n",
      "+------------+-----------+\n"
     ]
    }
   ],
   "source": [
    "#top 10 station with 0 bike availability\n",
    "! bq query --use_legacy_sql=false ' \\\n",
    "SELECT \\\n",
    "  station_id, \\\n",
    "  count(*) as instances \\\n",
    "FROM `bigquery-public-data.san_francisco.bikeshare_status` \\\n",
    "Where bikes_available = 0 AND Time(time) >= \"06:00:00\" AND Time(time) <= \"09:00:00\" \\\n",
    "Group by station_id \\\n",
    "Order by instances DESC \\\n",
    "limit 10'"
   ]
  },
  {
   "cell_type": "markdown",
   "metadata": {},
   "source": [
    "One simple way to select the top 10 target stations for increasing bikes and docks would be to select the top 6 from both queries, then subtracting the 2 repeat stations, resulting in 10 stations with the following IDs:\n",
    "\n",
    "70, 69, 50, 60, 61, 62, 73, 45, 55, 67.  "
   ]
  },
  {
   "cell_type": "markdown",
   "metadata": {},
   "source": [
    "### 2.2.A Offering promotions to Customers who take popular routes"
   ]
  },
  {
   "cell_type": "markdown",
   "metadata": {},
   "source": [
    "In answer the first question, we only limited ourselves to the top 5 commuter routes. Due to the time limit imposed on many of these routes, our query results showed very few customers taking the same route.  If we wish to target a larger customer segment, we can expand our query to 20 most popular routes, not limited to commuting, and examine the customer vs subscriber counts for these routes.  \n",
    "\n",
    "First, let's query the top 20 most popular routes and their average durations:"
   ]
  },
  {
   "cell_type": "code",
   "execution_count": 3,
   "metadata": {},
   "outputs": [
    {
     "name": "stdout",
     "output_type": "stream",
     "text": [
      "Waiting on bqjob_r45f9c7c485b2aa90_000001664bf06133_1 ... (1s) Current status: DONE   "
     ]
    }
   ],
   "source": [
    "! bq query --use_legacy_sql=false --format=csv '\\\n",
    "SELECT \\\n",
    "  start_station_id, start_station_name, end_station_id, end_station_name, \\\n",
    "  count(*) as trips, \\\n",
    "  round(avg(duration_sec/60),2) as avg_duration_min \\\n",
    "FROM `bigquery-public-data.san_francisco.bikeshare_trips` \\\n",
    "GROUP BY start_station_id, start_station_name, end_station_id, end_station_name \\\n",
    "ORDER BY trips DESC \\\n",
    "LIMIT 20' > popular20routes.csv"
   ]
  },
  {
   "cell_type": "code",
   "execution_count": 6,
   "metadata": {},
   "outputs": [],
   "source": [
    "popular20routes = pd.read_csv('popular20routes.csv')\n",
    "#merging the start_station_id and end_station_id into one column called route_id\n",
    "popular20routes['route_id'] = popular20routes.start_station_id.astype(str)+'-'+popular20routes.end_station_id.astype(str)\n",
    "popular20routes.drop(['start_station_id', 'end_station_id'], axis = 1, inplace = True)\n",
    "popular20routes.set_index('route_id', inplace = True)"
   ]
  },
  {
   "cell_type": "markdown",
   "metadata": {},
   "source": [
    "Next, run this query to count the number of trips taken by customers verus subscribers of the same 20 trips."
   ]
  },
  {
   "cell_type": "code",
   "execution_count": 7,
   "metadata": {},
   "outputs": [
    {
     "name": "stdout",
     "output_type": "stream",
     "text": [
      "Waiting on bqjob_r7c1473432a76ae8d_000001664bf29a50_1 ... (1s) Current status: DONE   "
     ]
    }
   ],
   "source": [
    "! bq query --use_legacy_sql=false --format=csv '\\\n",
    "SELECT start_station_id, start_station_name, end_station_id, end_station_name, \\\n",
    "  sum(trips) as total_trips, \\\n",
    "  sum(case when subscriber_type = \"Subscriber\" then trips else 0 end) as subscriber_trips, \\\n",
    "  sum(case when subscriber_type = \"Customer\" then trips else 0 end) as customer_trips \\\n",
    " FROM (\\\n",
    " SELECT \\\n",
    "  start_station_id, start_station_name, end_station_id, end_station_name, subscriber_type, \\\n",
    "  count(*) as trips \\\n",
    "FROM `bigquery-public-data.san_francisco.bikeshare_trips` \\\n",
    "GROUP BY start_station_id, start_station_name, end_station_id, end_station_name, subscriber_type \\\n",
    " )\\\n",
    " GROUP BY start_station_id, start_station_name, end_station_id, end_station_name \\\n",
    " ORDER BY total_trips desc \\\n",
    " LIMIT 20' > popular20routesbytype.csv"
   ]
  },
  {
   "cell_type": "code",
   "execution_count": 12,
   "metadata": {},
   "outputs": [],
   "source": [
    "popular20routesbytype = pd.read_csv('popular20routesbytype.csv')\n",
    "#merging the start_station_id and end_station_id into one column called route_id\n",
    "popular20routesbytype['route_id'] = popular20routesbytype.start_station_id.astype(str)+'-'+popular20routesbytype.end_station_id.astype(str)\n",
    "popular20routesbytype.drop(['start_station_id', 'end_station_id'], axis = 1, inplace = True)\n",
    "popular20routesbytype.set_index('route_id', inplace = True)\n"
   ]
  },
  {
   "cell_type": "code",
   "execution_count": 13,
   "metadata": {},
   "outputs": [
    {
     "data": {
      "text/html": [
       "<div>\n",
       "<style scoped>\n",
       "    .dataframe tbody tr th:only-of-type {\n",
       "        vertical-align: middle;\n",
       "    }\n",
       "\n",
       "    .dataframe tbody tr th {\n",
       "        vertical-align: top;\n",
       "    }\n",
       "\n",
       "    .dataframe thead th {\n",
       "        text-align: right;\n",
       "    }\n",
       "</style>\n",
       "<table border=\"1\" class=\"dataframe\">\n",
       "  <thead>\n",
       "    <tr style=\"text-align: right;\">\n",
       "      <th></th>\n",
       "      <th>start_station_name_x</th>\n",
       "      <th>end_station_name_x</th>\n",
       "      <th>avg_duration_min</th>\n",
       "      <th>total_trips</th>\n",
       "      <th>subscriber_trips</th>\n",
       "      <th>customer_trips</th>\n",
       "      <th>percentage_of_customers</th>\n",
       "    </tr>\n",
       "    <tr>\n",
       "      <th>route_id</th>\n",
       "      <th></th>\n",
       "      <th></th>\n",
       "      <th></th>\n",
       "      <th></th>\n",
       "      <th></th>\n",
       "      <th></th>\n",
       "      <th></th>\n",
       "    </tr>\n",
       "  </thead>\n",
       "  <tbody>\n",
       "    <tr>\n",
       "      <th>50-60</th>\n",
       "      <td>Harry Bridges Plaza (Ferry Building)</td>\n",
       "      <td>Embarcadero at Sansome</td>\n",
       "      <td>19.80</td>\n",
       "      <td>9150</td>\n",
       "      <td>5483</td>\n",
       "      <td>3667</td>\n",
       "      <td>40.08</td>\n",
       "    </tr>\n",
       "    <tr>\n",
       "      <th>69-65</th>\n",
       "      <td>San Francisco Caltrain 2 (330 Townsend)</td>\n",
       "      <td>Townsend at 7th</td>\n",
       "      <td>5.11</td>\n",
       "      <td>8508</td>\n",
       "      <td>8305</td>\n",
       "      <td>203</td>\n",
       "      <td>2.39</td>\n",
       "    </tr>\n",
       "    <tr>\n",
       "      <th>61-50</th>\n",
       "      <td>2nd at Townsend</td>\n",
       "      <td>Harry Bridges Plaza (Ferry Building)</td>\n",
       "      <td>9.70</td>\n",
       "      <td>7620</td>\n",
       "      <td>6931</td>\n",
       "      <td>689</td>\n",
       "      <td>9.04</td>\n",
       "    </tr>\n",
       "    <tr>\n",
       "      <th>50-61</th>\n",
       "      <td>Harry Bridges Plaza (Ferry Building)</td>\n",
       "      <td>2nd at Townsend</td>\n",
       "      <td>10.63</td>\n",
       "      <td>6888</td>\n",
       "      <td>6332</td>\n",
       "      <td>556</td>\n",
       "      <td>8.07</td>\n",
       "    </tr>\n",
       "    <tr>\n",
       "      <th>60-74</th>\n",
       "      <td>Embarcadero at Sansome</td>\n",
       "      <td>Steuart at Market</td>\n",
       "      <td>8.52</td>\n",
       "      <td>6874</td>\n",
       "      <td>6200</td>\n",
       "      <td>674</td>\n",
       "      <td>9.81</td>\n",
       "    </tr>\n",
       "    <tr>\n",
       "      <th>65-69</th>\n",
       "      <td>Townsend at 7th</td>\n",
       "      <td>San Francisco Caltrain 2 (330 Townsend)</td>\n",
       "      <td>4.65</td>\n",
       "      <td>6836</td>\n",
       "      <td>6641</td>\n",
       "      <td>195</td>\n",
       "      <td>2.85</td>\n",
       "    </tr>\n",
       "    <tr>\n",
       "      <th>51-70</th>\n",
       "      <td>Embarcadero at Folsom</td>\n",
       "      <td>San Francisco Caltrain (Townsend at 4th)</td>\n",
       "      <td>11.63</td>\n",
       "      <td>6351</td>\n",
       "      <td>6158</td>\n",
       "      <td>193</td>\n",
       "      <td>3.04</td>\n",
       "    </tr>\n",
       "    <tr>\n",
       "      <th>70-50</th>\n",
       "      <td>San Francisco Caltrain (Townsend at 4th)</td>\n",
       "      <td>Harry Bridges Plaza (Ferry Building)</td>\n",
       "      <td>13.28</td>\n",
       "      <td>6215</td>\n",
       "      <td>5709</td>\n",
       "      <td>506</td>\n",
       "      <td>8.14</td>\n",
       "    </tr>\n",
       "    <tr>\n",
       "      <th>74-61</th>\n",
       "      <td>Steuart at Market</td>\n",
       "      <td>2nd at Townsend</td>\n",
       "      <td>9.59</td>\n",
       "      <td>6039</td>\n",
       "      <td>5758</td>\n",
       "      <td>281</td>\n",
       "      <td>4.65</td>\n",
       "    </tr>\n",
       "    <tr>\n",
       "      <th>74-70</th>\n",
       "      <td>Steuart at Market</td>\n",
       "      <td>San Francisco Caltrain (Townsend at 4th)</td>\n",
       "      <td>12.17</td>\n",
       "      <td>5959</td>\n",
       "      <td>5695</td>\n",
       "      <td>264</td>\n",
       "      <td>4.43</td>\n",
       "    </tr>\n",
       "    <tr>\n",
       "      <th>55-70</th>\n",
       "      <td>Temporary Transbay Terminal (Howard at Beale)</td>\n",
       "      <td>San Francisco Caltrain (Townsend at 4th)</td>\n",
       "      <td>11.08</td>\n",
       "      <td>5796</td>\n",
       "      <td>5699</td>\n",
       "      <td>97</td>\n",
       "      <td>1.67</td>\n",
       "    </tr>\n",
       "    <tr>\n",
       "      <th>50-70</th>\n",
       "      <td>Harry Bridges Plaza (Ferry Building)</td>\n",
       "      <td>San Francisco Caltrain (Townsend at 4th)</td>\n",
       "      <td>14.31</td>\n",
       "      <td>5395</td>\n",
       "      <td>4980</td>\n",
       "      <td>415</td>\n",
       "      <td>7.69</td>\n",
       "    </tr>\n",
       "    <tr>\n",
       "      <th>65-70</th>\n",
       "      <td>Townsend at 7th</td>\n",
       "      <td>San Francisco Caltrain (Townsend at 4th)</td>\n",
       "      <td>4.93</td>\n",
       "      <td>5358</td>\n",
       "      <td>5174</td>\n",
       "      <td>184</td>\n",
       "      <td>3.43</td>\n",
       "    </tr>\n",
       "    <tr>\n",
       "      <th>64-77</th>\n",
       "      <td>2nd at South Park</td>\n",
       "      <td>Market at Sansome</td>\n",
       "      <td>7.94</td>\n",
       "      <td>5337</td>\n",
       "      <td>5205</td>\n",
       "      <td>132</td>\n",
       "      <td>2.47</td>\n",
       "    </tr>\n",
       "    <tr>\n",
       "      <th>70-55</th>\n",
       "      <td>San Francisco Caltrain (Townsend at 4th)</td>\n",
       "      <td>Temporary Transbay Terminal (Howard at Beale)</td>\n",
       "      <td>12.03</td>\n",
       "      <td>5196</td>\n",
       "      <td>5089</td>\n",
       "      <td>107</td>\n",
       "      <td>2.06</td>\n",
       "    </tr>\n",
       "    <tr>\n",
       "      <th>67-69</th>\n",
       "      <td>Market at 10th</td>\n",
       "      <td>San Francisco Caltrain 2 (330 Townsend)</td>\n",
       "      <td>10.16</td>\n",
       "      <td>5118</td>\n",
       "      <td>5008</td>\n",
       "      <td>110</td>\n",
       "      <td>2.15</td>\n",
       "    </tr>\n",
       "    <tr>\n",
       "      <th>74-60</th>\n",
       "      <td>Steuart at Market</td>\n",
       "      <td>Embarcadero at Sansome</td>\n",
       "      <td>13.21</td>\n",
       "      <td>5110</td>\n",
       "      <td>4263</td>\n",
       "      <td>847</td>\n",
       "      <td>16.58</td>\n",
       "    </tr>\n",
       "    <tr>\n",
       "      <th>77-64</th>\n",
       "      <td>Market at Sansome</td>\n",
       "      <td>2nd at South Park</td>\n",
       "      <td>6.71</td>\n",
       "      <td>5063</td>\n",
       "      <td>4919</td>\n",
       "      <td>144</td>\n",
       "      <td>2.84</td>\n",
       "    </tr>\n",
       "    <tr>\n",
       "      <th>60-50</th>\n",
       "      <td>Embarcadero at Sansome</td>\n",
       "      <td>Harry Bridges Plaza (Ferry Building)</td>\n",
       "      <td>14.63</td>\n",
       "      <td>4737</td>\n",
       "      <td>3099</td>\n",
       "      <td>1638</td>\n",
       "      <td>34.58</td>\n",
       "    </tr>\n",
       "    <tr>\n",
       "      <th>69-39</th>\n",
       "      <td>San Francisco Caltrain 2 (330 Townsend)</td>\n",
       "      <td>Powell Street BART</td>\n",
       "      <td>9.64</td>\n",
       "      <td>4492</td>\n",
       "      <td>4352</td>\n",
       "      <td>140</td>\n",
       "      <td>3.12</td>\n",
       "    </tr>\n",
       "  </tbody>\n",
       "</table>\n",
       "</div>"
      ],
      "text/plain": [
       "                                   start_station_name_x  \\\n",
       "route_id                                                  \n",
       "50-60              Harry Bridges Plaza (Ferry Building)   \n",
       "69-65           San Francisco Caltrain 2 (330 Townsend)   \n",
       "61-50                                   2nd at Townsend   \n",
       "50-61              Harry Bridges Plaza (Ferry Building)   \n",
       "60-74                            Embarcadero at Sansome   \n",
       "65-69                                   Townsend at 7th   \n",
       "51-70                             Embarcadero at Folsom   \n",
       "70-50          San Francisco Caltrain (Townsend at 4th)   \n",
       "74-61                                 Steuart at Market   \n",
       "74-70                                 Steuart at Market   \n",
       "55-70     Temporary Transbay Terminal (Howard at Beale)   \n",
       "50-70              Harry Bridges Plaza (Ferry Building)   \n",
       "65-70                                   Townsend at 7th   \n",
       "64-77                                 2nd at South Park   \n",
       "70-55          San Francisco Caltrain (Townsend at 4th)   \n",
       "67-69                                    Market at 10th   \n",
       "74-60                                 Steuart at Market   \n",
       "77-64                                 Market at Sansome   \n",
       "60-50                            Embarcadero at Sansome   \n",
       "69-39           San Francisco Caltrain 2 (330 Townsend)   \n",
       "\n",
       "                                     end_station_name_x  avg_duration_min  \\\n",
       "route_id                                                                    \n",
       "50-60                            Embarcadero at Sansome             19.80   \n",
       "69-65                                   Townsend at 7th              5.11   \n",
       "61-50              Harry Bridges Plaza (Ferry Building)              9.70   \n",
       "50-61                                   2nd at Townsend             10.63   \n",
       "60-74                                 Steuart at Market              8.52   \n",
       "65-69           San Francisco Caltrain 2 (330 Townsend)              4.65   \n",
       "51-70          San Francisco Caltrain (Townsend at 4th)             11.63   \n",
       "70-50              Harry Bridges Plaza (Ferry Building)             13.28   \n",
       "74-61                                   2nd at Townsend              9.59   \n",
       "74-70          San Francisco Caltrain (Townsend at 4th)             12.17   \n",
       "55-70          San Francisco Caltrain (Townsend at 4th)             11.08   \n",
       "50-70          San Francisco Caltrain (Townsend at 4th)             14.31   \n",
       "65-70          San Francisco Caltrain (Townsend at 4th)              4.93   \n",
       "64-77                                 Market at Sansome              7.94   \n",
       "70-55     Temporary Transbay Terminal (Howard at Beale)             12.03   \n",
       "67-69           San Francisco Caltrain 2 (330 Townsend)             10.16   \n",
       "74-60                            Embarcadero at Sansome             13.21   \n",
       "77-64                                 2nd at South Park              6.71   \n",
       "60-50              Harry Bridges Plaza (Ferry Building)             14.63   \n",
       "69-39                                Powell Street BART              9.64   \n",
       "\n",
       "          total_trips  subscriber_trips  customer_trips  \\\n",
       "route_id                                                  \n",
       "50-60            9150              5483            3667   \n",
       "69-65            8508              8305             203   \n",
       "61-50            7620              6931             689   \n",
       "50-61            6888              6332             556   \n",
       "60-74            6874              6200             674   \n",
       "65-69            6836              6641             195   \n",
       "51-70            6351              6158             193   \n",
       "70-50            6215              5709             506   \n",
       "74-61            6039              5758             281   \n",
       "74-70            5959              5695             264   \n",
       "55-70            5796              5699              97   \n",
       "50-70            5395              4980             415   \n",
       "65-70            5358              5174             184   \n",
       "64-77            5337              5205             132   \n",
       "70-55            5196              5089             107   \n",
       "67-69            5118              5008             110   \n",
       "74-60            5110              4263             847   \n",
       "77-64            5063              4919             144   \n",
       "60-50            4737              3099            1638   \n",
       "69-39            4492              4352             140   \n",
       "\n",
       "          percentage_of_customers  \n",
       "route_id                           \n",
       "50-60                       40.08  \n",
       "69-65                        2.39  \n",
       "61-50                        9.04  \n",
       "50-61                        8.07  \n",
       "60-74                        9.81  \n",
       "65-69                        2.85  \n",
       "51-70                        3.04  \n",
       "70-50                        8.14  \n",
       "74-61                        4.65  \n",
       "74-70                        4.43  \n",
       "55-70                        1.67  \n",
       "50-70                        7.69  \n",
       "65-70                        3.43  \n",
       "64-77                        2.47  \n",
       "70-55                        2.06  \n",
       "67-69                        2.15  \n",
       "74-60                       16.58  \n",
       "77-64                        2.84  \n",
       "60-50                       34.58  \n",
       "69-39                        3.12  "
      ]
     },
     "execution_count": 13,
     "metadata": {},
     "output_type": "execute_result"
    }
   ],
   "source": [
    "#merge the 2 tables to get one complete table with average durations and an additional column for percentage of customers\n",
    "top20 = popular20routes.merge(popular20routesbytype, on = 'route_id')\n",
    "#drop duplicate columns\n",
    "top20.drop(['start_station_name_y', 'end_station_name_y', 'trips'], axis = 1, inplace = True)\n",
    "#create new column for percentage of customers\n",
    "top20['percentage_of_customers'] = round(top20['customer_trips']/top20['total_trips'], 4)*100\n",
    "top20.head(20)"
   ]
  },
  {
   "cell_type": "markdown",
   "metadata": {},
   "source": [
    "One thing to note here is that all of these routes have durations that are less than 20 minutes, which is within the limit of a commuter route, per the analysis completed in section 1.1. While most of these routes are dominated by subscribers, there are 3 of them that have a significantly higher percentage of customers than others.  These are the following 3 routes:\n",
    "\n",
    "1. Harry Bridges Plaza (Ferry Building) to\tEmbarcadero at Sansome with 40% customers\n",
    "2. Steuart at Market to\tEmbarcadero at Sansome with 16.6% customers\n",
    "3. Embarcadero at Sansome to Harry Bridges Plaza (Ferry Building) with 34.6 customers\n",
    "\n",
    "If I expanded my query to the top 100, I could potentially uncover more of these routes where there are a non-neglible number of customer trips.  In fact, any popular route taken by subscribers with a duration of less than 20 minutes could be a potential commuter route for that subset of subscribers.  If these popular routes have any non-zero amount of customers, these customers can be targeted as potential subscribers.  \n",
    "\n",
    "Therefore I would propose the following:\n",
    "1. For the top X amount of popular routes with durations less than 20 min, find routes with a signifiant number of customer trips (>10%).  For future customers that take trips along these routes, offer a one month free subscription trial, or a one month subscription trial at a significantly reduced price (perhaps \\$9.95, the current 24 hour pass price rate).  In my example, for the top 20 routes, there are 3 such routes with large amongt of customer trips that can be the source of customers that can become potential subscribers. \n",
    "2. For the top X commuter routes, target any future customers taking the same route with an offer of one month free subscription trial, or a one month subscription trial at a significantly reduced price of \\$9.95.  When looking at commuter routes, we may have a high chance of capturing customers who are residents of the Bay Area and are trying the bikeshare prior to committing. By offering low risk trials, they may be more motivated to become long term subscribers after one month of usage. "
   ]
  },
  {
   "cell_type": "markdown",
   "metadata": {},
   "source": [
    "### 2.2.B Offering lower price subscriptions"
   ]
  },
  {
   "cell_type": "markdown",
   "metadata": {},
   "source": [
    "So far, we have targeted customers who may be taking commuter routes.  What about customers who are avid bike riders in the Bay Area and may want to rent bikes on weekends for leisure?  To discover such customers, lets run a query on trips by day of week, and the number of trips taken by customers versus subscribers.  "
   ]
  },
  {
   "cell_type": "code",
   "execution_count": 14,
   "metadata": {},
   "outputs": [
    {
     "name": "stdout",
     "output_type": "stream",
     "text": [
      "Waiting on bqjob_r4478a7a86765b43f_000001664c110d50_1 ... (1s) Current status: DONE   "
     ]
    }
   ],
   "source": [
    "! bq query --use_legacy_sql=false --format=csv '\\\n",
    "SELECT \\\n",
    "  EXTRACT(DayofWeek FROM start_date) as day_of_week, \\\n",
    "  subscriber_type, \\\n",
    "  count(*) as trips \\\n",
    "FROM `bigquery-public-data.san_francisco.bikeshare_trips` \\\n",
    "GROUP BY day_of_week, subscriber_type \\\n",
    "ORDER BY day_of_week' > tripsdayofweek.csv"
   ]
  },
  {
   "cell_type": "code",
   "execution_count": 50,
   "metadata": {},
   "outputs": [
    {
     "data": {
      "text/plain": [
       "dtype('int64')"
      ]
     },
     "execution_count": 50,
     "metadata": {},
     "output_type": "execute_result"
    }
   ],
   "source": [
    "tripsdayofweek = pd.read_csv('tripsdayofweek.csv')\n",
    "tripsdayofweek.day_of_week = tripsdayofweek.day_of_week.astype(int)\n",
    "tripsdayofweek.day_of_week.dtype"
   ]
  },
  {
   "cell_type": "markdown",
   "metadata": {},
   "source": [
    "From the sql documentation found at https://www.w3schools.com/sql/func_mysql_dayofweek.asp, the dayofweek function has the following note - Note: 1=Sunday, 2=Monday, 3=Tuesday, 4=Wednesday, 5=Thursday, 6=Friday, 7=Saturday. Therefore, I will create a dictionary used for transforming the day_of_week output within the results table to their corresponding textual day of week:"
   ]
  },
  {
   "cell_type": "code",
   "execution_count": 52,
   "metadata": {},
   "outputs": [
    {
     "data": {
      "text/plain": [
       "'Monday'"
      ]
     },
     "execution_count": 52,
     "metadata": {},
     "output_type": "execute_result"
    }
   ],
   "source": [
    "day = {'1':'Sunday', '2':'Monday', '3':'Tuesday', '4':'Wednesday', '5':'Thursday', '6':'Friday', '7':'Saturday'}\n",
    "change_to_day = lambda x: day[str(x)]\n",
    "change_to_day(2)"
   ]
  },
  {
   "cell_type": "code",
   "execution_count": 60,
   "metadata": {},
   "outputs": [
    {
     "data": {
      "text/html": [
       "<div>\n",
       "<style scoped>\n",
       "    .dataframe tbody tr th:only-of-type {\n",
       "        vertical-align: middle;\n",
       "    }\n",
       "\n",
       "    .dataframe tbody tr th {\n",
       "        vertical-align: top;\n",
       "    }\n",
       "\n",
       "    .dataframe thead th {\n",
       "        text-align: right;\n",
       "    }\n",
       "</style>\n",
       "<table border=\"1\" class=\"dataframe\">\n",
       "  <thead>\n",
       "    <tr style=\"text-align: right;\">\n",
       "      <th></th>\n",
       "      <th>subscriber_type</th>\n",
       "      <th>Customer</th>\n",
       "      <th>Subscriber</th>\n",
       "    </tr>\n",
       "    <tr>\n",
       "      <th>day_of_week</th>\n",
       "      <th>day</th>\n",
       "      <th></th>\n",
       "      <th></th>\n",
       "    </tr>\n",
       "  </thead>\n",
       "  <tbody>\n",
       "    <tr>\n",
       "      <th>1</th>\n",
       "      <th>Sunday</th>\n",
       "      <td>25908</td>\n",
       "      <td>25467</td>\n",
       "    </tr>\n",
       "    <tr>\n",
       "      <th>2</th>\n",
       "      <th>Monday</th>\n",
       "      <td>15142</td>\n",
       "      <td>154795</td>\n",
       "    </tr>\n",
       "    <tr>\n",
       "      <th>3</th>\n",
       "      <th>Tuesday</th>\n",
       "      <td>14737</td>\n",
       "      <td>169668</td>\n",
       "    </tr>\n",
       "    <tr>\n",
       "      <th>4</th>\n",
       "      <th>Wednesday</th>\n",
       "      <td>15237</td>\n",
       "      <td>165530</td>\n",
       "    </tr>\n",
       "    <tr>\n",
       "      <th>5</th>\n",
       "      <th>Thursday</th>\n",
       "      <td>16612</td>\n",
       "      <td>160296</td>\n",
       "    </tr>\n",
       "  </tbody>\n",
       "</table>\n",
       "</div>"
      ],
      "text/plain": [
       "subscriber_type        Customer  Subscriber\n",
       "day_of_week day                            \n",
       "1           Sunday        25908       25467\n",
       "2           Monday        15142      154795\n",
       "3           Tuesday       14737      169668\n",
       "4           Wednesday     15237      165530\n",
       "5           Thursday      16612      160296"
      ]
     },
     "execution_count": 60,
     "metadata": {},
     "output_type": "execute_result"
    }
   ],
   "source": [
    "tripsdayofweek['day'] = tripsdayofweek.day_of_week.apply(change_to_day)\n",
    "typeperday = tripsdayofweek.groupby(['day_of_week', 'day', 'subscriber_type'])['trips'].sum().unstack('subscriber_type')\n",
    "#typeperday.drop(['day_of_week'], axis = 1, inplace = True)\n",
    "typeperday.head()\n"
   ]
  },
  {
   "cell_type": "code",
   "execution_count": 65,
   "metadata": {},
   "outputs": [
    {
     "data": {
      "text/plain": [
       "<matplotlib.axes._subplots.AxesSubplot at 0x7fc2aa7be0b8>"
      ]
     },
     "execution_count": 65,
     "metadata": {},
     "output_type": "execute_result"
    },
    {
     "data": {
      "image/png": "[encoded data removed]",
      "text/plain": [
       "<Figure size 720x576 with 1 Axes>"
      ]
     },
     "metadata": {},
     "output_type": "display_data"
    }
   ],
   "source": [
    "chart_typeperday = typeperday.plot(kind='bar', stacked = False, colormap='RdYlGn', figsize = (10,8))\n",
    "chart_typeperday.set_xlabel('Day of Week', size=20)\n",
    "chart_typeperday.set_ylabel('Number of Trips', size=20)\n",
    "chart_typeperday.set_title('Number of Trips by Subscriber Type started per Day of Week', size=22)\n",
    "pyplot.legend(loc=2, prop={'size': 8}, title='Subscriber Type')\n",
    "\n",
    "chart_typeperday "
   ]
  },
  {
   "cell_type": "markdown",
   "metadata": {},
   "source": [
    "Perhaps as expected, we see a significant increase in amount of trips by subscribers during the weekdays than on the weekends.  This aligns with our earlier speculation that many commuters are subscribers who use the bike share service to travel between home and office during the weekday.  Also as expected, there is a significantly greater number of subscribers' during weekdays, possibly due to commute, than customers' trips. However, what this plot shows us that we have not yet seen is that the number of customer trips and subscriber trips are amost equal on the weekends.  In addition, the total number of trips (customers + subscribers) is significantly lower than that of the total number of trips during weekdays. \n",
    "\n",
    "In section 1.1, we found that a large amount of customers (~48%) prefer to take trips longer than 20 minutes.  In section 2.1.A, I mentioned that that there should be new pricing changes and tiers for customers to take longer rides at the propsed\n",
    "3. \\$9.95 for 24 hours and \\$19.95 for 3 days for unlimited rides up to 45 minutes plus \\$3 for every 15 minutes after\n",
    "4. \\$14.95 for 24 hours and \\$29.95 for 3 days for unlimited rides of any length\n",
    "\n",
    "Here, with the additional information of weekend trip counts for customers, I would also like to propse new pricing tiers for subscribers, in addition to the current \\$15 per month membership pricing:\n",
    "\n",
    "6. \\$15 per month for unlimited rides on Saturday and Sunday for up to 2 hours plus \\$3 for every additional 15 minutes.  \n",
    "    - This is meant to attracted Bay Area residents who are currently customers but rent bikes for long rides on weekends and turn them into long term subscribers.  \n",
    "    \n",
    "7. \\$20 per month for unlimited 30 minute rides on weekdays and 2 hour rides on weekends.  \n",
    "    - In section 2.1.A. I mentioned that cutting the time limit for subscribers from 45 minutes to 30 minutes will make the other customer pricing more appealing, but could affect current subscribers who like to take longer trips. This pricing option is meant to prevent loss of existing subscribers, while also giving current subscribers more options to use the bike on both weekdays and weekends. "
   ]
  },
  {
   "cell_type": "markdown",
   "metadata": {},
   "source": [
    "### 3.1.A Increase subsribers subscription periods\n",
    "\n",
    "Lastly, to ensure that current subscribers renew their subscriptions, we can consider improving infrastructure for our most populous zip codes.  This could also alleviate the stress at the stations that are either most popular or most likely to run out of bikes.  To find the top 20 area zip codes worth targeting, we can use a query on bikeshare_trips table's field zip_code, which is reliable for subscribers but not as much for customers."
   ]
  },
  {
   "cell_type": "code",
   "execution_count": 71,
   "metadata": {},
   "outputs": [
    {
     "name": "stdout",
     "output_type": "stream",
     "text": [
      "Waiting on bqjob_r4a25838f866b532d_000001664c48c584_1 ... (0s) Current status: DONE   \n",
      "+----------+--------+\n",
      "| zip_code | trips  |\n",
      "+----------+--------+\n",
      "| 94107    | 104037 |\n",
      "| 94105    |  59582 |\n",
      "| 94133    |  45242 |\n",
      "| 94103    |  36517 |\n",
      "| 94111    |  32615 |\n",
      "| 94102    |  28717 |\n",
      "| 94109    |  17696 |\n",
      "| 95112    |  14108 |\n",
      "| 94158    |  13035 |\n",
      "| 94611    |  12882 |\n",
      "| 94117    |  11754 |\n",
      "| 94602    |  10685 |\n",
      "| 94403    |  10624 |\n",
      "| 94610    |  10333 |\n",
      "| 94501    |   9891 |\n",
      "| 94110    |   9528 |\n",
      "| 94040    |   9449 |\n",
      "| 94114    |   9037 |\n",
      "| 94025    |   8879 |\n",
      "| 94010    |   8819 |\n",
      "+----------+--------+\n"
     ]
    }
   ],
   "source": [
    "! bq query --use_legacy_sql=false '\\\n",
    "SELECT \\\n",
    "  zip_code, \\\n",
    "  count(*) as trips \\\n",
    "FROM `bigquery-public-data.san_francisco.bikeshare_trips` \\\n",
    "Where subscriber_type = \"Subscriber\" \\\n",
    "GROUP by zip_code \\\n",
    "ORDER by trips DESC \\\n",
    "LIMIT 20'"
   ]
  },
  {
   "cell_type": "markdown",
   "metadata": {},
   "source": [
    "Using the zip code data above, the next step would be to cross reference this with the current map and plan out new locations for stations near these zip codes.  This can increase not only accessibility but convenience for current subscribers.  Building more stations in these top 20 zip codes can not only increase both the subscribers and customers count, but can also increase the amount of subscribers who renew their membership each month or each year. "
   ]
  },
  {
   "cell_type": "code",
   "execution_count": null,
   "metadata": {},
   "outputs": [],
   "source": []
  }
 ],
 "metadata": {
  "kernelspec": {
   "display_name": "Python 3",
   "language": "python",
   "name": "python3"
  },
  "language_info": {
   "codemirror_mode": {
    "name": "ipython",
    "version": 3
   },
   "file_extension": ".py",
   "mimetype": "text/x-python",
   "name": "python",
   "nbconvert_exporter": "python",
   "pygments_lexer": "ipython3",
   "version": "3.5.2"
  }
 },
 "nbformat": 4,
 "nbformat_minor": 2
}
